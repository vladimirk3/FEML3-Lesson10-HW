{
 "cells": [
  {
   "cell_type": "code",
   "execution_count": 322,
   "metadata": {},
   "outputs": [],
   "source": [
    "import matplotlib.pyplot as plt\n",
    "import pandas as pd\n",
    "import numpy as np\n",
    "import seaborn as sns\n",
    "from jupyterthemes import jtplot\n",
    "from sklearn.metrics import auc, roc_curve, roc_auc_score\n",
    "%matplotlib inline\n",
    "jtplot.style()\n",
    "\n",
    "from sklearn.linear_model import LinearRegression\n",
    "from sklearn.linear_model import Lasso \n",
    "from sklearn.linear_model import Ridge\n",
    "from sklearn.ensemble import RandomForestClassifier\n",
    "from sklearn.svm import SVC\n",
    "from sklearn.model_selection import train_test_split\n",
    "from sklearn.preprocessing import StandardScaler\n",
    "from sklearn.metrics import roc_curve\n",
    "from sklearn.metrics import roc_auc_score\n",
    "from sklearn.metrics import precision_recall_curve"
   ]
  },
  {
   "cell_type": "code",
   "execution_count": 323,
   "metadata": {},
   "outputs": [],
   "source": [
    "data = pd.read_csv('Kobe.csv')"
   ]
  },
  {
   "cell_type": "code",
   "execution_count": 324,
   "metadata": {},
   "outputs": [],
   "source": [
    "target = 'shot_made_flag'"
   ]
  },
  {
   "cell_type": "code",
   "execution_count": 325,
   "metadata": {},
   "outputs": [
    {
     "data": {
      "text/plain": [
       "0.0    14232\n",
       "1.0    11465\n",
       "Name: shot_made_flag, dtype: int64"
      ]
     },
     "execution_count": 325,
     "metadata": {},
     "output_type": "execute_result"
    }
   ],
   "source": [
    "data[target].value_counts()"
   ]
  },
  {
   "cell_type": "code",
   "execution_count": 326,
   "metadata": {},
   "outputs": [
    {
     "data": {
      "text/plain": [
       "Index(['action_type', 'combined_shot_type', 'game_event_id', 'game_id', 'lat',\n",
       "       'loc_x', 'loc_y', 'lon', 'minutes_remaining', 'period', 'playoffs',\n",
       "       'season', 'seconds_remaining', 'shot_distance', 'shot_made_flag',\n",
       "       'shot_type', 'shot_zone_area', 'shot_zone_basic', 'shot_zone_range',\n",
       "       'team_id', 'team_name', 'game_date', 'matchup', 'opponent', 'shot_id'],\n",
       "      dtype='object')"
      ]
     },
     "execution_count": 326,
     "metadata": {},
     "output_type": "execute_result"
    }
   ],
   "source": [
    "columns = data.columns\n",
    "columns"
   ]
  },
  {
   "cell_type": "code",
   "execution_count": 327,
   "metadata": {},
   "outputs": [
    {
     "data": {
      "text/html": [
       "<div>\n",
       "<style scoped>\n",
       "    .dataframe tbody tr th:only-of-type {\n",
       "        vertical-align: middle;\n",
       "    }\n",
       "\n",
       "    .dataframe tbody tr th {\n",
       "        vertical-align: top;\n",
       "    }\n",
       "\n",
       "    .dataframe thead th {\n",
       "        text-align: right;\n",
       "    }\n",
       "</style>\n",
       "<table border=\"1\" class=\"dataframe\">\n",
       "  <thead>\n",
       "    <tr style=\"text-align: right;\">\n",
       "      <th></th>\n",
       "      <th>action_type</th>\n",
       "      <th>combined_shot_type</th>\n",
       "      <th>game_event_id</th>\n",
       "      <th>game_id</th>\n",
       "      <th>lat</th>\n",
       "      <th>loc_x</th>\n",
       "      <th>loc_y</th>\n",
       "      <th>lon</th>\n",
       "      <th>minutes_remaining</th>\n",
       "      <th>period</th>\n",
       "      <th>...</th>\n",
       "      <th>shot_type</th>\n",
       "      <th>shot_zone_area</th>\n",
       "      <th>shot_zone_basic</th>\n",
       "      <th>shot_zone_range</th>\n",
       "      <th>team_id</th>\n",
       "      <th>team_name</th>\n",
       "      <th>game_date</th>\n",
       "      <th>matchup</th>\n",
       "      <th>opponent</th>\n",
       "      <th>shot_id</th>\n",
       "    </tr>\n",
       "  </thead>\n",
       "  <tbody>\n",
       "    <tr>\n",
       "      <td>0</td>\n",
       "      <td>Jump Shot</td>\n",
       "      <td>Jump Shot</td>\n",
       "      <td>10</td>\n",
       "      <td>20000012</td>\n",
       "      <td>33.9723</td>\n",
       "      <td>167</td>\n",
       "      <td>72</td>\n",
       "      <td>-118.1028</td>\n",
       "      <td>10</td>\n",
       "      <td>1</td>\n",
       "      <td>...</td>\n",
       "      <td>2PT Field Goal</td>\n",
       "      <td>Right Side(R)</td>\n",
       "      <td>Mid-Range</td>\n",
       "      <td>16-24 ft.</td>\n",
       "      <td>1610612747</td>\n",
       "      <td>Los Angeles Lakers</td>\n",
       "      <td>2000-10-31</td>\n",
       "      <td>LAL @ POR</td>\n",
       "      <td>POR</td>\n",
       "      <td>1</td>\n",
       "    </tr>\n",
       "    <tr>\n",
       "      <td>1</td>\n",
       "      <td>Jump Shot</td>\n",
       "      <td>Jump Shot</td>\n",
       "      <td>12</td>\n",
       "      <td>20000012</td>\n",
       "      <td>34.0443</td>\n",
       "      <td>-157</td>\n",
       "      <td>0</td>\n",
       "      <td>-118.4268</td>\n",
       "      <td>10</td>\n",
       "      <td>1</td>\n",
       "      <td>...</td>\n",
       "      <td>2PT Field Goal</td>\n",
       "      <td>Left Side(L)</td>\n",
       "      <td>Mid-Range</td>\n",
       "      <td>8-16 ft.</td>\n",
       "      <td>1610612747</td>\n",
       "      <td>Los Angeles Lakers</td>\n",
       "      <td>2000-10-31</td>\n",
       "      <td>LAL @ POR</td>\n",
       "      <td>POR</td>\n",
       "      <td>2</td>\n",
       "    </tr>\n",
       "    <tr>\n",
       "      <td>2</td>\n",
       "      <td>Jump Shot</td>\n",
       "      <td>Jump Shot</td>\n",
       "      <td>35</td>\n",
       "      <td>20000012</td>\n",
       "      <td>33.9093</td>\n",
       "      <td>-101</td>\n",
       "      <td>135</td>\n",
       "      <td>-118.3708</td>\n",
       "      <td>7</td>\n",
       "      <td>1</td>\n",
       "      <td>...</td>\n",
       "      <td>2PT Field Goal</td>\n",
       "      <td>Left Side Center(LC)</td>\n",
       "      <td>Mid-Range</td>\n",
       "      <td>16-24 ft.</td>\n",
       "      <td>1610612747</td>\n",
       "      <td>Los Angeles Lakers</td>\n",
       "      <td>2000-10-31</td>\n",
       "      <td>LAL @ POR</td>\n",
       "      <td>POR</td>\n",
       "      <td>3</td>\n",
       "    </tr>\n",
       "    <tr>\n",
       "      <td>3</td>\n",
       "      <td>Jump Shot</td>\n",
       "      <td>Jump Shot</td>\n",
       "      <td>43</td>\n",
       "      <td>20000012</td>\n",
       "      <td>33.8693</td>\n",
       "      <td>138</td>\n",
       "      <td>175</td>\n",
       "      <td>-118.1318</td>\n",
       "      <td>6</td>\n",
       "      <td>1</td>\n",
       "      <td>...</td>\n",
       "      <td>2PT Field Goal</td>\n",
       "      <td>Right Side Center(RC)</td>\n",
       "      <td>Mid-Range</td>\n",
       "      <td>16-24 ft.</td>\n",
       "      <td>1610612747</td>\n",
       "      <td>Los Angeles Lakers</td>\n",
       "      <td>2000-10-31</td>\n",
       "      <td>LAL @ POR</td>\n",
       "      <td>POR</td>\n",
       "      <td>4</td>\n",
       "    </tr>\n",
       "    <tr>\n",
       "      <td>4</td>\n",
       "      <td>Driving Dunk Shot</td>\n",
       "      <td>Dunk</td>\n",
       "      <td>155</td>\n",
       "      <td>20000012</td>\n",
       "      <td>34.0443</td>\n",
       "      <td>0</td>\n",
       "      <td>0</td>\n",
       "      <td>-118.2698</td>\n",
       "      <td>6</td>\n",
       "      <td>2</td>\n",
       "      <td>...</td>\n",
       "      <td>2PT Field Goal</td>\n",
       "      <td>Center(C)</td>\n",
       "      <td>Restricted Area</td>\n",
       "      <td>Less Than 8 ft.</td>\n",
       "      <td>1610612747</td>\n",
       "      <td>Los Angeles Lakers</td>\n",
       "      <td>2000-10-31</td>\n",
       "      <td>LAL @ POR</td>\n",
       "      <td>POR</td>\n",
       "      <td>5</td>\n",
       "    </tr>\n",
       "  </tbody>\n",
       "</table>\n",
       "<p>5 rows × 25 columns</p>\n",
       "</div>"
      ],
      "text/plain": [
       "         action_type combined_shot_type  game_event_id   game_id      lat  \\\n",
       "0          Jump Shot          Jump Shot             10  20000012  33.9723   \n",
       "1          Jump Shot          Jump Shot             12  20000012  34.0443   \n",
       "2          Jump Shot          Jump Shot             35  20000012  33.9093   \n",
       "3          Jump Shot          Jump Shot             43  20000012  33.8693   \n",
       "4  Driving Dunk Shot               Dunk            155  20000012  34.0443   \n",
       "\n",
       "   loc_x  loc_y       lon  minutes_remaining  period  ...       shot_type  \\\n",
       "0    167     72 -118.1028                 10       1  ...  2PT Field Goal   \n",
       "1   -157      0 -118.4268                 10       1  ...  2PT Field Goal   \n",
       "2   -101    135 -118.3708                  7       1  ...  2PT Field Goal   \n",
       "3    138    175 -118.1318                  6       1  ...  2PT Field Goal   \n",
       "4      0      0 -118.2698                  6       2  ...  2PT Field Goal   \n",
       "\n",
       "          shot_zone_area  shot_zone_basic  shot_zone_range     team_id  \\\n",
       "0          Right Side(R)        Mid-Range        16-24 ft.  1610612747   \n",
       "1           Left Side(L)        Mid-Range         8-16 ft.  1610612747   \n",
       "2   Left Side Center(LC)        Mid-Range        16-24 ft.  1610612747   \n",
       "3  Right Side Center(RC)        Mid-Range        16-24 ft.  1610612747   \n",
       "4              Center(C)  Restricted Area  Less Than 8 ft.  1610612747   \n",
       "\n",
       "            team_name   game_date    matchup opponent  shot_id  \n",
       "0  Los Angeles Lakers  2000-10-31  LAL @ POR      POR        1  \n",
       "1  Los Angeles Lakers  2000-10-31  LAL @ POR      POR        2  \n",
       "2  Los Angeles Lakers  2000-10-31  LAL @ POR      POR        3  \n",
       "3  Los Angeles Lakers  2000-10-31  LAL @ POR      POR        4  \n",
       "4  Los Angeles Lakers  2000-10-31  LAL @ POR      POR        5  \n",
       "\n",
       "[5 rows x 25 columns]"
      ]
     },
     "execution_count": 327,
     "metadata": {},
     "output_type": "execute_result"
    }
   ],
   "source": [
    "data.head(5)"
   ]
  },
  {
   "cell_type": "markdown",
   "metadata": {},
   "source": [
    "Из результатов info() видно, что нулевые значения есть тольо в целевом столбце shot_made_flag и их там 5000. по заданию кагл неам необходимо для этих значений предсказать, что Коби забросил мяч. поэтому запишем в переменную data_train данные для тренировки и валидации модели, data_eval - данные, для которых необходимо предсказать результат"
   ]
  },
  {
   "cell_type": "code",
   "execution_count": 328,
   "metadata": {},
   "outputs": [
    {
     "data": {
      "text/plain": [
       "0    NaN\n",
       "1    0.0\n",
       "2    1.0\n",
       "3    0.0\n",
       "4    1.0\n",
       "5    0.0\n",
       "6    1.0\n",
       "7    NaN\n",
       "8    1.0\n",
       "9    0.0\n",
       "Name: shot_made_flag, dtype: float64"
      ]
     },
     "execution_count": 328,
     "metadata": {},
     "output_type": "execute_result"
    }
   ],
   "source": [
    "data['shot_made_flag'].head(10)"
   ]
  },
  {
   "cell_type": "code",
   "execution_count": 329,
   "metadata": {},
   "outputs": [
    {
     "name": "stdout",
     "output_type": "stream",
     "text": [
      "<class 'pandas.core.frame.DataFrame'>\n",
      "RangeIndex: 30697 entries, 0 to 30696\n",
      "Data columns (total 25 columns):\n",
      "action_type           30697 non-null object\n",
      "combined_shot_type    30697 non-null object\n",
      "game_event_id         30697 non-null int64\n",
      "game_id               30697 non-null int64\n",
      "lat                   30697 non-null float64\n",
      "loc_x                 30697 non-null int64\n",
      "loc_y                 30697 non-null int64\n",
      "lon                   30697 non-null float64\n",
      "minutes_remaining     30697 non-null int64\n",
      "period                30697 non-null int64\n",
      "playoffs              30697 non-null int64\n",
      "season                30697 non-null object\n",
      "seconds_remaining     30697 non-null int64\n",
      "shot_distance         30697 non-null int64\n",
      "shot_made_flag        25697 non-null float64\n",
      "shot_type             30697 non-null object\n",
      "shot_zone_area        30697 non-null object\n",
      "shot_zone_basic       30697 non-null object\n",
      "shot_zone_range       30697 non-null object\n",
      "team_id               30697 non-null int64\n",
      "team_name             30697 non-null object\n",
      "game_date             30697 non-null object\n",
      "matchup               30697 non-null object\n",
      "opponent              30697 non-null object\n",
      "shot_id               30697 non-null int64\n",
      "dtypes: float64(3), int64(11), object(11)\n",
      "memory usage: 5.9+ MB\n"
     ]
    }
   ],
   "source": [
    "data.info()"
   ]
  },
  {
   "cell_type": "code",
   "execution_count": 330,
   "metadata": {},
   "outputs": [
    {
     "data": {
      "text/html": [
       "<div>\n",
       "<style scoped>\n",
       "    .dataframe tbody tr th:only-of-type {\n",
       "        vertical-align: middle;\n",
       "    }\n",
       "\n",
       "    .dataframe tbody tr th {\n",
       "        vertical-align: top;\n",
       "    }\n",
       "\n",
       "    .dataframe thead th {\n",
       "        text-align: right;\n",
       "    }\n",
       "</style>\n",
       "<table border=\"1\" class=\"dataframe\">\n",
       "  <thead>\n",
       "    <tr style=\"text-align: right;\">\n",
       "      <th></th>\n",
       "      <th>action_type</th>\n",
       "      <th>combined_shot_type</th>\n",
       "      <th>game_event_id</th>\n",
       "      <th>game_id</th>\n",
       "      <th>lat</th>\n",
       "      <th>loc_x</th>\n",
       "      <th>loc_y</th>\n",
       "      <th>lon</th>\n",
       "      <th>minutes_remaining</th>\n",
       "      <th>period</th>\n",
       "      <th>...</th>\n",
       "      <th>shot_type</th>\n",
       "      <th>shot_zone_area</th>\n",
       "      <th>shot_zone_basic</th>\n",
       "      <th>shot_zone_range</th>\n",
       "      <th>team_id</th>\n",
       "      <th>team_name</th>\n",
       "      <th>game_date</th>\n",
       "      <th>matchup</th>\n",
       "      <th>opponent</th>\n",
       "      <th>shot_id</th>\n",
       "    </tr>\n",
       "  </thead>\n",
       "  <tbody>\n",
       "    <tr>\n",
       "      <td>1</td>\n",
       "      <td>Jump Shot</td>\n",
       "      <td>Jump Shot</td>\n",
       "      <td>12</td>\n",
       "      <td>20000012</td>\n",
       "      <td>34.0443</td>\n",
       "      <td>-157</td>\n",
       "      <td>0</td>\n",
       "      <td>-118.4268</td>\n",
       "      <td>10</td>\n",
       "      <td>1</td>\n",
       "      <td>...</td>\n",
       "      <td>2PT Field Goal</td>\n",
       "      <td>Left Side(L)</td>\n",
       "      <td>Mid-Range</td>\n",
       "      <td>8-16 ft.</td>\n",
       "      <td>1610612747</td>\n",
       "      <td>Los Angeles Lakers</td>\n",
       "      <td>2000-10-31</td>\n",
       "      <td>LAL @ POR</td>\n",
       "      <td>POR</td>\n",
       "      <td>2</td>\n",
       "    </tr>\n",
       "    <tr>\n",
       "      <td>2</td>\n",
       "      <td>Jump Shot</td>\n",
       "      <td>Jump Shot</td>\n",
       "      <td>35</td>\n",
       "      <td>20000012</td>\n",
       "      <td>33.9093</td>\n",
       "      <td>-101</td>\n",
       "      <td>135</td>\n",
       "      <td>-118.3708</td>\n",
       "      <td>7</td>\n",
       "      <td>1</td>\n",
       "      <td>...</td>\n",
       "      <td>2PT Field Goal</td>\n",
       "      <td>Left Side Center(LC)</td>\n",
       "      <td>Mid-Range</td>\n",
       "      <td>16-24 ft.</td>\n",
       "      <td>1610612747</td>\n",
       "      <td>Los Angeles Lakers</td>\n",
       "      <td>2000-10-31</td>\n",
       "      <td>LAL @ POR</td>\n",
       "      <td>POR</td>\n",
       "      <td>3</td>\n",
       "    </tr>\n",
       "    <tr>\n",
       "      <td>3</td>\n",
       "      <td>Jump Shot</td>\n",
       "      <td>Jump Shot</td>\n",
       "      <td>43</td>\n",
       "      <td>20000012</td>\n",
       "      <td>33.8693</td>\n",
       "      <td>138</td>\n",
       "      <td>175</td>\n",
       "      <td>-118.1318</td>\n",
       "      <td>6</td>\n",
       "      <td>1</td>\n",
       "      <td>...</td>\n",
       "      <td>2PT Field Goal</td>\n",
       "      <td>Right Side Center(RC)</td>\n",
       "      <td>Mid-Range</td>\n",
       "      <td>16-24 ft.</td>\n",
       "      <td>1610612747</td>\n",
       "      <td>Los Angeles Lakers</td>\n",
       "      <td>2000-10-31</td>\n",
       "      <td>LAL @ POR</td>\n",
       "      <td>POR</td>\n",
       "      <td>4</td>\n",
       "    </tr>\n",
       "    <tr>\n",
       "      <td>4</td>\n",
       "      <td>Driving Dunk Shot</td>\n",
       "      <td>Dunk</td>\n",
       "      <td>155</td>\n",
       "      <td>20000012</td>\n",
       "      <td>34.0443</td>\n",
       "      <td>0</td>\n",
       "      <td>0</td>\n",
       "      <td>-118.2698</td>\n",
       "      <td>6</td>\n",
       "      <td>2</td>\n",
       "      <td>...</td>\n",
       "      <td>2PT Field Goal</td>\n",
       "      <td>Center(C)</td>\n",
       "      <td>Restricted Area</td>\n",
       "      <td>Less Than 8 ft.</td>\n",
       "      <td>1610612747</td>\n",
       "      <td>Los Angeles Lakers</td>\n",
       "      <td>2000-10-31</td>\n",
       "      <td>LAL @ POR</td>\n",
       "      <td>POR</td>\n",
       "      <td>5</td>\n",
       "    </tr>\n",
       "    <tr>\n",
       "      <td>5</td>\n",
       "      <td>Jump Shot</td>\n",
       "      <td>Jump Shot</td>\n",
       "      <td>244</td>\n",
       "      <td>20000012</td>\n",
       "      <td>34.0553</td>\n",
       "      <td>-145</td>\n",
       "      <td>-11</td>\n",
       "      <td>-118.4148</td>\n",
       "      <td>9</td>\n",
       "      <td>3</td>\n",
       "      <td>...</td>\n",
       "      <td>2PT Field Goal</td>\n",
       "      <td>Left Side(L)</td>\n",
       "      <td>Mid-Range</td>\n",
       "      <td>8-16 ft.</td>\n",
       "      <td>1610612747</td>\n",
       "      <td>Los Angeles Lakers</td>\n",
       "      <td>2000-10-31</td>\n",
       "      <td>LAL @ POR</td>\n",
       "      <td>POR</td>\n",
       "      <td>6</td>\n",
       "    </tr>\n",
       "  </tbody>\n",
       "</table>\n",
       "<p>5 rows × 25 columns</p>\n",
       "</div>"
      ],
      "text/plain": [
       "         action_type combined_shot_type  game_event_id   game_id      lat  \\\n",
       "1          Jump Shot          Jump Shot             12  20000012  34.0443   \n",
       "2          Jump Shot          Jump Shot             35  20000012  33.9093   \n",
       "3          Jump Shot          Jump Shot             43  20000012  33.8693   \n",
       "4  Driving Dunk Shot               Dunk            155  20000012  34.0443   \n",
       "5          Jump Shot          Jump Shot            244  20000012  34.0553   \n",
       "\n",
       "   loc_x  loc_y       lon  minutes_remaining  period  ...       shot_type  \\\n",
       "1   -157      0 -118.4268                 10       1  ...  2PT Field Goal   \n",
       "2   -101    135 -118.3708                  7       1  ...  2PT Field Goal   \n",
       "3    138    175 -118.1318                  6       1  ...  2PT Field Goal   \n",
       "4      0      0 -118.2698                  6       2  ...  2PT Field Goal   \n",
       "5   -145    -11 -118.4148                  9       3  ...  2PT Field Goal   \n",
       "\n",
       "          shot_zone_area  shot_zone_basic  shot_zone_range     team_id  \\\n",
       "1           Left Side(L)        Mid-Range         8-16 ft.  1610612747   \n",
       "2   Left Side Center(LC)        Mid-Range        16-24 ft.  1610612747   \n",
       "3  Right Side Center(RC)        Mid-Range        16-24 ft.  1610612747   \n",
       "4              Center(C)  Restricted Area  Less Than 8 ft.  1610612747   \n",
       "5           Left Side(L)        Mid-Range         8-16 ft.  1610612747   \n",
       "\n",
       "            team_name   game_date    matchup opponent  shot_id  \n",
       "1  Los Angeles Lakers  2000-10-31  LAL @ POR      POR        2  \n",
       "2  Los Angeles Lakers  2000-10-31  LAL @ POR      POR        3  \n",
       "3  Los Angeles Lakers  2000-10-31  LAL @ POR      POR        4  \n",
       "4  Los Angeles Lakers  2000-10-31  LAL @ POR      POR        5  \n",
       "5  Los Angeles Lakers  2000-10-31  LAL @ POR      POR        6  \n",
       "\n",
       "[5 rows x 25 columns]"
      ]
     },
     "execution_count": 330,
     "metadata": {},
     "output_type": "execute_result"
    }
   ],
   "source": [
    "#данные с ненулевыми занчениями в строках.\n",
    "data_train = data[data.isnull()['shot_made_flag'] == False]\n",
    "data_train.head(5)"
   ]
  },
  {
   "cell_type": "code",
   "execution_count": 331,
   "metadata": {},
   "outputs": [
    {
     "data": {
      "text/plain": [
       "5000"
      ]
     },
     "execution_count": 331,
     "metadata": {},
     "output_type": "execute_result"
    }
   ],
   "source": [
    "#количество нулевых значений в датасете\n",
    "data.isnull().values.sum()"
   ]
  },
  {
   "cell_type": "code",
   "execution_count": 332,
   "metadata": {},
   "outputs": [],
   "source": [
    "#данные с отсутствующими целевыми значениями\n",
    "data_eval = data[data.isnull()['shot_made_flag'] == True]"
   ]
  },
  {
   "cell_type": "markdown",
   "metadata": {},
   "source": [
    "Выделим категориальные и числовые признаки (предваринтельные):"
   ]
  },
  {
   "cell_type": "code",
   "execution_count": 333,
   "metadata": {},
   "outputs": [],
   "source": [
    "#признаки числовым типом\n",
    "feat_num = [col for col in list(data_train.columns) if data[col].dtype != 'O']\n",
    "#признаки не числовым типом (категориальные)\n",
    "feat_cat = [col for col in list(data_train.columns) if data[col].dtype == 'O']"
   ]
  },
  {
   "cell_type": "code",
   "execution_count": 334,
   "metadata": {},
   "outputs": [
    {
     "data": {
      "text/plain": [
       "['action_type',\n",
       " 'combined_shot_type',\n",
       " 'season',\n",
       " 'shot_type',\n",
       " 'shot_zone_area',\n",
       " 'shot_zone_basic',\n",
       " 'shot_zone_range',\n",
       " 'team_name',\n",
       " 'game_date',\n",
       " 'matchup',\n",
       " 'opponent']"
      ]
     },
     "execution_count": 334,
     "metadata": {},
     "output_type": "execute_result"
    }
   ],
   "source": [
    "feat_cat"
   ]
  },
  {
   "cell_type": "markdown",
   "metadata": {},
   "source": [
    "Проверим количество уникальных значений для признаков:"
   ]
  },
  {
   "cell_type": "code",
   "execution_count": 335,
   "metadata": {},
   "outputs": [
    {
     "data": {
      "text/html": [
       "<div>\n",
       "<style scoped>\n",
       "    .dataframe tbody tr th:only-of-type {\n",
       "        vertical-align: middle;\n",
       "    }\n",
       "\n",
       "    .dataframe tbody tr th {\n",
       "        vertical-align: top;\n",
       "    }\n",
       "\n",
       "    .dataframe thead th {\n",
       "        text-align: right;\n",
       "    }\n",
       "</style>\n",
       "<table border=\"1\" class=\"dataframe\">\n",
       "  <thead>\n",
       "    <tr style=\"text-align: right;\">\n",
       "      <th></th>\n",
       "      <th>action_type</th>\n",
       "      <th>combined_shot_type</th>\n",
       "      <th>season</th>\n",
       "      <th>shot_type</th>\n",
       "      <th>shot_zone_area</th>\n",
       "      <th>shot_zone_basic</th>\n",
       "      <th>shot_zone_range</th>\n",
       "      <th>team_name</th>\n",
       "      <th>game_date</th>\n",
       "      <th>matchup</th>\n",
       "      <th>opponent</th>\n",
       "    </tr>\n",
       "  </thead>\n",
       "  <tbody>\n",
       "    <tr>\n",
       "      <td>1</td>\n",
       "      <td>Jump Shot</td>\n",
       "      <td>Jump Shot</td>\n",
       "      <td>2000-01</td>\n",
       "      <td>2PT Field Goal</td>\n",
       "      <td>Left Side(L)</td>\n",
       "      <td>Mid-Range</td>\n",
       "      <td>8-16 ft.</td>\n",
       "      <td>Los Angeles Lakers</td>\n",
       "      <td>2000-10-31</td>\n",
       "      <td>LAL @ POR</td>\n",
       "      <td>POR</td>\n",
       "    </tr>\n",
       "    <tr>\n",
       "      <td>2</td>\n",
       "      <td>Jump Shot</td>\n",
       "      <td>Jump Shot</td>\n",
       "      <td>2000-01</td>\n",
       "      <td>2PT Field Goal</td>\n",
       "      <td>Left Side Center(LC)</td>\n",
       "      <td>Mid-Range</td>\n",
       "      <td>16-24 ft.</td>\n",
       "      <td>Los Angeles Lakers</td>\n",
       "      <td>2000-10-31</td>\n",
       "      <td>LAL @ POR</td>\n",
       "      <td>POR</td>\n",
       "    </tr>\n",
       "    <tr>\n",
       "      <td>3</td>\n",
       "      <td>Jump Shot</td>\n",
       "      <td>Jump Shot</td>\n",
       "      <td>2000-01</td>\n",
       "      <td>2PT Field Goal</td>\n",
       "      <td>Right Side Center(RC)</td>\n",
       "      <td>Mid-Range</td>\n",
       "      <td>16-24 ft.</td>\n",
       "      <td>Los Angeles Lakers</td>\n",
       "      <td>2000-10-31</td>\n",
       "      <td>LAL @ POR</td>\n",
       "      <td>POR</td>\n",
       "    </tr>\n",
       "    <tr>\n",
       "      <td>4</td>\n",
       "      <td>Driving Dunk Shot</td>\n",
       "      <td>Dunk</td>\n",
       "      <td>2000-01</td>\n",
       "      <td>2PT Field Goal</td>\n",
       "      <td>Center(C)</td>\n",
       "      <td>Restricted Area</td>\n",
       "      <td>Less Than 8 ft.</td>\n",
       "      <td>Los Angeles Lakers</td>\n",
       "      <td>2000-10-31</td>\n",
       "      <td>LAL @ POR</td>\n",
       "      <td>POR</td>\n",
       "    </tr>\n",
       "    <tr>\n",
       "      <td>5</td>\n",
       "      <td>Jump Shot</td>\n",
       "      <td>Jump Shot</td>\n",
       "      <td>2000-01</td>\n",
       "      <td>2PT Field Goal</td>\n",
       "      <td>Left Side(L)</td>\n",
       "      <td>Mid-Range</td>\n",
       "      <td>8-16 ft.</td>\n",
       "      <td>Los Angeles Lakers</td>\n",
       "      <td>2000-10-31</td>\n",
       "      <td>LAL @ POR</td>\n",
       "      <td>POR</td>\n",
       "    </tr>\n",
       "  </tbody>\n",
       "</table>\n",
       "</div>"
      ],
      "text/plain": [
       "         action_type combined_shot_type   season       shot_type  \\\n",
       "1          Jump Shot          Jump Shot  2000-01  2PT Field Goal   \n",
       "2          Jump Shot          Jump Shot  2000-01  2PT Field Goal   \n",
       "3          Jump Shot          Jump Shot  2000-01  2PT Field Goal   \n",
       "4  Driving Dunk Shot               Dunk  2000-01  2PT Field Goal   \n",
       "5          Jump Shot          Jump Shot  2000-01  2PT Field Goal   \n",
       "\n",
       "          shot_zone_area  shot_zone_basic  shot_zone_range  \\\n",
       "1           Left Side(L)        Mid-Range         8-16 ft.   \n",
       "2   Left Side Center(LC)        Mid-Range        16-24 ft.   \n",
       "3  Right Side Center(RC)        Mid-Range        16-24 ft.   \n",
       "4              Center(C)  Restricted Area  Less Than 8 ft.   \n",
       "5           Left Side(L)        Mid-Range         8-16 ft.   \n",
       "\n",
       "            team_name   game_date    matchup opponent  \n",
       "1  Los Angeles Lakers  2000-10-31  LAL @ POR      POR  \n",
       "2  Los Angeles Lakers  2000-10-31  LAL @ POR      POR  \n",
       "3  Los Angeles Lakers  2000-10-31  LAL @ POR      POR  \n",
       "4  Los Angeles Lakers  2000-10-31  LAL @ POR      POR  \n",
       "5  Los Angeles Lakers  2000-10-31  LAL @ POR      POR  "
      ]
     },
     "execution_count": 335,
     "metadata": {},
     "output_type": "execute_result"
    }
   ],
   "source": [
    "data_train[feat_cat].head(5)"
   ]
  },
  {
   "cell_type": "code",
   "execution_count": 336,
   "metadata": {},
   "outputs": [
    {
     "name": "stdout",
     "output_type": "stream",
     "text": [
      "Категориальне признаки на основе типа O:\n",
      "action_type 55\n",
      "combined_shot_type 6\n",
      "season 20\n",
      "shot_type 2\n",
      "shot_zone_area 6\n",
      "shot_zone_basic 7\n",
      "shot_zone_range 5\n",
      "team_name 1\n",
      "game_date 1558\n",
      "matchup 74\n",
      "opponent 33\n"
     ]
    }
   ],
   "source": [
    "print('Категориальне признаки на основе типа O:')\n",
    "for cat in feat_cat:\n",
    "    cat_uniq_qty = len(list(data_train[cat].unique()))\n",
    "    print(cat, cat_uniq_qty)"
   ]
  },
  {
   "cell_type": "code",
   "execution_count": 337,
   "metadata": {},
   "outputs": [
    {
     "name": "stdout",
     "output_type": "stream",
     "text": [
      "Непрерывные числовые признаки:\n",
      "game_event_id 618\n",
      "game_id 1558\n",
      "lat 446\n",
      "loc_x 486\n",
      "loc_y 446\n",
      "lon 486\n",
      "minutes_remaining 12\n",
      "period 7\n",
      "playoffs 2\n",
      "seconds_remaining 60\n",
      "shot_distance 74\n",
      "shot_made_flag 2\n",
      "team_id 1\n",
      "shot_id 25697\n"
     ]
    }
   ],
   "source": [
    "print('Непрерывные числовые признаки:')\n",
    "for feature in feat_num:\n",
    "    cat_uniq_qty = len(list(data_train[feature].unique()))\n",
    "    print(feature, cat_uniq_qty)"
   ]
  },
  {
   "cell_type": "markdown",
   "metadata": {},
   "source": [
    "Необходимо удалить из датасета столбец:\n",
    " - team_name, так как он имеет одно уникальное значение и не несет какой-либо значимости для модели.\n",
    " - team_id, так как он имеет одно уникальное значение и не несет какой-либо значимости для модели.\n",
    " - shot_id - так как это просто полрядковый номер гола в датасете. Этот признак точно н сделает лучше нашу модель, а может и сделать хуже, так как величина данных ничего не значит.\n",
    " - matchup, так как он является сочетанием данных из team_name (имя комнады игрока всегда одно) и opponnt (имя команды противника). в таком случае можно сотавить только opponent.\n",
    " - lat, lon - долгота, широта. судя по тому, что они отличаются в рамках одной игры, то это координаты игрока во время броска. у нас эти данные сгрппированы категориальными признаками shot_zone\n",
    " - shot_made_flag - это целевая переменная, которую надо удалить из датасета с признаками.\n",
    "\n",
    "Оставить или модфицировать:\n",
    " - shot_zone_area, shot_zone_basic, shot_zone_range (cat) - оставим, так как они являются координатами броска. Возможно из каких-то мест игро лучше делает броски, а из каких-то хуже, что повлиет на успешность броска.\n",
    " - shot_type (cat) - тип гола по количеству очков (2, 3х очковые). оставляем.\n",
    " - game_date - необходимо выделить выделить года и месяцы, так как возможны какие-то закономерности. \n",
    " - season еще есть смысл выделить отдельно год и месяц.  разные сезоны результативность игрока может отличаться\n",
    " - action_type - тип броска: 55 уникальных значений. Пока оставляет, так как это вид броска, а он может влиять на результат: какие-то забиваются чаще, а какие-то реже. Частично укрупнен в combined_shot_type. возможно позже удалим тот или другой и посмотрим на результат.\n",
    " - minutes_remaining в диапозоне от 0-11. оставшееся время до конца периода (минуты).Чем меньше время, тем больше забивается мячей.\n",
    " - seconds remaining в диапозоне 0-59 (секунды). Возможно удалить, так как есть минуты (своего рода укрупненные группы времени). но можно и перевести минуты-секунды в просто секунды.\n",
    " - period - похоже на серии, так как связаны с id матчей\n",
    " - playoffs (cat) - тип игры: турнира (1) или нет (0). Катеориальная переменная\n",
    " - shot_distance - дистанция броска \n",
    " \n",
    "Под вопорсом (удалить):\n",
    " - game_event_id - неведомая штука. похожа на хронологию в единицах времени. на всякий случай оставим пока\n",
    " - loc_x, loc_y - тоже какие-то координаты неведомые. на всякий случай оставим пока\n"
   ]
  },
  {
   "cell_type": "code",
   "execution_count": 338,
   "metadata": {},
   "outputs": [],
   "source": [
    "feat_cat.remove('team_name')\n",
    "feat_cat.remove('matchup')\n",
    "feat_num.remove('shot_id')\n",
    "feat_num.remove('lat')\n",
    "feat_num.remove('lon')\n",
    "feat_num.remove('shot_made_flag')\n",
    "feat_num.remove('team_id')"
   ]
  },
  {
   "cell_type": "code",
   "execution_count": 339,
   "metadata": {},
   "outputs": [
    {
     "data": {
      "text/html": [
       "<div>\n",
       "<style scoped>\n",
       "    .dataframe tbody tr th:only-of-type {\n",
       "        vertical-align: middle;\n",
       "    }\n",
       "\n",
       "    .dataframe tbody tr th {\n",
       "        vertical-align: top;\n",
       "    }\n",
       "\n",
       "    .dataframe thead th {\n",
       "        text-align: right;\n",
       "    }\n",
       "</style>\n",
       "<table border=\"1\" class=\"dataframe\">\n",
       "  <thead>\n",
       "    <tr style=\"text-align: right;\">\n",
       "      <th></th>\n",
       "      <th>action_type</th>\n",
       "      <th>combined_shot_type</th>\n",
       "      <th>season</th>\n",
       "      <th>shot_type</th>\n",
       "      <th>shot_zone_area</th>\n",
       "      <th>shot_zone_basic</th>\n",
       "      <th>shot_zone_range</th>\n",
       "      <th>game_date</th>\n",
       "      <th>opponent</th>\n",
       "    </tr>\n",
       "  </thead>\n",
       "  <tbody>\n",
       "    <tr>\n",
       "      <td>1</td>\n",
       "      <td>Jump Shot</td>\n",
       "      <td>Jump Shot</td>\n",
       "      <td>2000-01</td>\n",
       "      <td>2PT Field Goal</td>\n",
       "      <td>Left Side(L)</td>\n",
       "      <td>Mid-Range</td>\n",
       "      <td>8-16 ft.</td>\n",
       "      <td>2000-10-31</td>\n",
       "      <td>POR</td>\n",
       "    </tr>\n",
       "    <tr>\n",
       "      <td>2</td>\n",
       "      <td>Jump Shot</td>\n",
       "      <td>Jump Shot</td>\n",
       "      <td>2000-01</td>\n",
       "      <td>2PT Field Goal</td>\n",
       "      <td>Left Side Center(LC)</td>\n",
       "      <td>Mid-Range</td>\n",
       "      <td>16-24 ft.</td>\n",
       "      <td>2000-10-31</td>\n",
       "      <td>POR</td>\n",
       "    </tr>\n",
       "    <tr>\n",
       "      <td>3</td>\n",
       "      <td>Jump Shot</td>\n",
       "      <td>Jump Shot</td>\n",
       "      <td>2000-01</td>\n",
       "      <td>2PT Field Goal</td>\n",
       "      <td>Right Side Center(RC)</td>\n",
       "      <td>Mid-Range</td>\n",
       "      <td>16-24 ft.</td>\n",
       "      <td>2000-10-31</td>\n",
       "      <td>POR</td>\n",
       "    </tr>\n",
       "    <tr>\n",
       "      <td>4</td>\n",
       "      <td>Driving Dunk Shot</td>\n",
       "      <td>Dunk</td>\n",
       "      <td>2000-01</td>\n",
       "      <td>2PT Field Goal</td>\n",
       "      <td>Center(C)</td>\n",
       "      <td>Restricted Area</td>\n",
       "      <td>Less Than 8 ft.</td>\n",
       "      <td>2000-10-31</td>\n",
       "      <td>POR</td>\n",
       "    </tr>\n",
       "    <tr>\n",
       "      <td>5</td>\n",
       "      <td>Jump Shot</td>\n",
       "      <td>Jump Shot</td>\n",
       "      <td>2000-01</td>\n",
       "      <td>2PT Field Goal</td>\n",
       "      <td>Left Side(L)</td>\n",
       "      <td>Mid-Range</td>\n",
       "      <td>8-16 ft.</td>\n",
       "      <td>2000-10-31</td>\n",
       "      <td>POR</td>\n",
       "    </tr>\n",
       "  </tbody>\n",
       "</table>\n",
       "</div>"
      ],
      "text/plain": [
       "         action_type combined_shot_type   season       shot_type  \\\n",
       "1          Jump Shot          Jump Shot  2000-01  2PT Field Goal   \n",
       "2          Jump Shot          Jump Shot  2000-01  2PT Field Goal   \n",
       "3          Jump Shot          Jump Shot  2000-01  2PT Field Goal   \n",
       "4  Driving Dunk Shot               Dunk  2000-01  2PT Field Goal   \n",
       "5          Jump Shot          Jump Shot  2000-01  2PT Field Goal   \n",
       "\n",
       "          shot_zone_area  shot_zone_basic  shot_zone_range   game_date  \\\n",
       "1           Left Side(L)        Mid-Range         8-16 ft.  2000-10-31   \n",
       "2   Left Side Center(LC)        Mid-Range        16-24 ft.  2000-10-31   \n",
       "3  Right Side Center(RC)        Mid-Range        16-24 ft.  2000-10-31   \n",
       "4              Center(C)  Restricted Area  Less Than 8 ft.  2000-10-31   \n",
       "5           Left Side(L)        Mid-Range         8-16 ft.  2000-10-31   \n",
       "\n",
       "  opponent  \n",
       "1      POR  \n",
       "2      POR  \n",
       "3      POR  \n",
       "4      POR  \n",
       "5      POR  "
      ]
     },
     "execution_count": 339,
     "metadata": {},
     "output_type": "execute_result"
    }
   ],
   "source": [
    "data_train[feat_cat].head(5)"
   ]
  },
  {
   "cell_type": "code",
   "execution_count": 340,
   "metadata": {},
   "outputs": [
    {
     "data": {
      "text/html": [
       "<div>\n",
       "<style scoped>\n",
       "    .dataframe tbody tr th:only-of-type {\n",
       "        vertical-align: middle;\n",
       "    }\n",
       "\n",
       "    .dataframe tbody tr th {\n",
       "        vertical-align: top;\n",
       "    }\n",
       "\n",
       "    .dataframe thead th {\n",
       "        text-align: right;\n",
       "    }\n",
       "</style>\n",
       "<table border=\"1\" class=\"dataframe\">\n",
       "  <thead>\n",
       "    <tr style=\"text-align: right;\">\n",
       "      <th></th>\n",
       "      <th>game_event_id</th>\n",
       "      <th>game_id</th>\n",
       "      <th>loc_x</th>\n",
       "      <th>loc_y</th>\n",
       "      <th>minutes_remaining</th>\n",
       "      <th>period</th>\n",
       "      <th>playoffs</th>\n",
       "      <th>seconds_remaining</th>\n",
       "      <th>shot_distance</th>\n",
       "    </tr>\n",
       "  </thead>\n",
       "  <tbody>\n",
       "    <tr>\n",
       "      <td>1</td>\n",
       "      <td>12</td>\n",
       "      <td>20000012</td>\n",
       "      <td>-157</td>\n",
       "      <td>0</td>\n",
       "      <td>10</td>\n",
       "      <td>1</td>\n",
       "      <td>0</td>\n",
       "      <td>22</td>\n",
       "      <td>15</td>\n",
       "    </tr>\n",
       "    <tr>\n",
       "      <td>2</td>\n",
       "      <td>35</td>\n",
       "      <td>20000012</td>\n",
       "      <td>-101</td>\n",
       "      <td>135</td>\n",
       "      <td>7</td>\n",
       "      <td>1</td>\n",
       "      <td>0</td>\n",
       "      <td>45</td>\n",
       "      <td>16</td>\n",
       "    </tr>\n",
       "    <tr>\n",
       "      <td>3</td>\n",
       "      <td>43</td>\n",
       "      <td>20000012</td>\n",
       "      <td>138</td>\n",
       "      <td>175</td>\n",
       "      <td>6</td>\n",
       "      <td>1</td>\n",
       "      <td>0</td>\n",
       "      <td>52</td>\n",
       "      <td>22</td>\n",
       "    </tr>\n",
       "    <tr>\n",
       "      <td>4</td>\n",
       "      <td>155</td>\n",
       "      <td>20000012</td>\n",
       "      <td>0</td>\n",
       "      <td>0</td>\n",
       "      <td>6</td>\n",
       "      <td>2</td>\n",
       "      <td>0</td>\n",
       "      <td>19</td>\n",
       "      <td>0</td>\n",
       "    </tr>\n",
       "    <tr>\n",
       "      <td>5</td>\n",
       "      <td>244</td>\n",
       "      <td>20000012</td>\n",
       "      <td>-145</td>\n",
       "      <td>-11</td>\n",
       "      <td>9</td>\n",
       "      <td>3</td>\n",
       "      <td>0</td>\n",
       "      <td>32</td>\n",
       "      <td>14</td>\n",
       "    </tr>\n",
       "  </tbody>\n",
       "</table>\n",
       "</div>"
      ],
      "text/plain": [
       "   game_event_id   game_id  loc_x  loc_y  minutes_remaining  period  playoffs  \\\n",
       "1             12  20000012   -157      0                 10       1         0   \n",
       "2             35  20000012   -101    135                  7       1         0   \n",
       "3             43  20000012    138    175                  6       1         0   \n",
       "4            155  20000012      0      0                  6       2         0   \n",
       "5            244  20000012   -145    -11                  9       3         0   \n",
       "\n",
       "   seconds_remaining  shot_distance  \n",
       "1                 22             15  \n",
       "2                 45             16  \n",
       "3                 52             22  \n",
       "4                 19              0  \n",
       "5                 32             14  "
      ]
     },
     "execution_count": 340,
     "metadata": {},
     "output_type": "execute_result"
    }
   ],
   "source": [
    "data_train[feat_num].head(5)"
   ]
  },
  {
   "cell_type": "markdown",
   "metadata": {},
   "source": [
    "Посмотрим на корелляцию непрерывных признаков на предмет выявления закономерносетей или удаления кореллированных признаков. Целевая переменная не кореллирует ни с одной из пеерменных, что и очевидно, так как это класс из двух значений (больше категория). Есть высокая корелляция между period-game_event_id (серии связаны с идентификаторами матчкй), game_id-playoffs (идентификаторы для плэйофф начинаются с 4, остальные с 2). Shot_distance также связана с Loc_y (похоже координата на поле). посзже для упрощения можно удалить один из каждой пары признаков.\n",
    "Что кастается распределний, то нормальных (гауссовских) здесь нет"
   ]
  },
  {
   "cell_type": "code",
   "execution_count": 341,
   "metadata": {},
   "outputs": [
    {
     "data": {
      "image/png": "[encoded data removed]",
      "text/plain": [
       "<Figure size 1080x1080 with 12 Axes>"
      ]
     },
     "metadata": {},
     "output_type": "display_data"
    }
   ],
   "source": [
    "data_train[feat_num+[target]].hist(figsize = (15,15))\n",
    "plt.show()"
   ]
  },
  {
   "cell_type": "code",
   "execution_count": 342,
   "metadata": {},
   "outputs": [
    {
     "data": {
      "text/plain": [
       "(10.0, 0.0)"
      ]
     },
     "execution_count": 342,
     "metadata": {},
     "output_type": "execute_result"
    },
    {
     "data": {
      "image/png": "[encoded data removed]",
      "text/plain": [
       "<Figure size 576x576 with 2 Axes>"
      ]
     },
     "metadata": {},
     "output_type": "display_data"
    }
   ],
   "source": [
    "plt.figure(figsize=(8, 8))\n",
    "ax = sns.heatmap(data_train[feat_num+[target]].corr(), cmap=sns.color_palette(\"RdBu_r\", 1000), vmin=-1, center=0, annot=True)\n",
    "i, k = ax.get_ylim()\n",
    "ax.set_ylim(i+0.5, k-0.5)"
   ]
  },
  {
   "cell_type": "code",
   "execution_count": 343,
   "metadata": {},
   "outputs": [
    {
     "data": {
      "text/plain": [
       "<matplotlib.collections.PathCollection at 0x26f16249388>"
      ]
     },
     "execution_count": 343,
     "metadata": {},
     "output_type": "execute_result"
    },
    {
     "data": {
      "image/png": "[encoded data removed]",
      "text/plain": [
       "<Figure size 460.8x403.2 with 1 Axes>"
      ]
     },
     "metadata": {},
     "output_type": "display_data"
    }
   ],
   "source": [
    "plt.scatter(data_train['period'], data_train['game_event_id'])"
   ]
  },
  {
   "cell_type": "markdown",
   "metadata": {},
   "source": [
    "Проверим визуально числовые признаки на выбросы\n",
    "Видимо незначительные выбросы на game_id, period. Если смотреть на смысл значений, то нельзя сказать, что их много. loc_y и shot_distance по сути одно и тоже, что и подтверждается на графике в виде корелляции 0,82. Удалять особо нечего"
   ]
  },
  {
   "cell_type": "code",
   "execution_count": 344,
   "metadata": {},
   "outputs": [
    {
     "data": {
      "text/plain": [
       "<matplotlib.axes._subplots.AxesSubplot at 0x26f16036c48>"
      ]
     },
     "execution_count": 344,
     "metadata": {},
     "output_type": "execute_result"
    },
    {
     "data": {
      "image/png": "[encoded data removed]",
      "text/plain": [
       "<Figure size 1080x432 with 1 Axes>"
      ]
     },
     "metadata": {},
     "output_type": "display_data"
    }
   ],
   "source": [
    "from sklearn.preprocessing import MinMaxScaler\n",
    "mm_scaler = MinMaxScaler()\n",
    "mm_X = mm_scaler.fit_transform(data_train[feat_num])\n",
    "bp = pd.DataFrame(mm_X, columns = feat_num)\n",
    "bp.boxplot(figsize = (15,6))"
   ]
  },
  {
   "cell_type": "code",
   "execution_count": 345,
   "metadata": {},
   "outputs": [
    {
     "data": {
      "text/plain": [
       "(array([5.130e+03, 8.020e+02, 3.170e+02, 1.001e+03, 6.030e+02, 1.096e+03,\n",
       "        1.190e+03, 6.440e+02, 1.680e+03, 9.720e+02, 2.390e+03, 1.195e+03,\n",
       "        2.124e+03, 1.242e+03, 4.930e+02, 2.894e+03, 1.060e+03, 6.160e+02,\n",
       "        8.300e+01, 2.400e+01, 1.200e+01, 7.000e+00, 1.000e+01, 1.000e+01,\n",
       "        1.400e+01, 1.400e+01, 6.000e+00, 9.000e+00, 2.000e+00, 5.000e+00,\n",
       "        3.000e+00, 5.000e+00, 4.000e+00, 1.000e+00, 4.000e+00, 3.000e+00,\n",
       "        5.000e+00, 4.000e+00, 1.000e+00, 6.000e+00, 2.000e+00, 1.000e+00,\n",
       "        2.000e+00, 3.000e+00, 3.000e+00, 0.000e+00, 3.000e+00, 0.000e+00,\n",
       "        1.000e+00, 1.000e+00]),\n",
       " array([ 0.  ,  1.58,  3.16,  4.74,  6.32,  7.9 ,  9.48, 11.06, 12.64,\n",
       "        14.22, 15.8 , 17.38, 18.96, 20.54, 22.12, 23.7 , 25.28, 26.86,\n",
       "        28.44, 30.02, 31.6 , 33.18, 34.76, 36.34, 37.92, 39.5 , 41.08,\n",
       "        42.66, 44.24, 45.82, 47.4 , 48.98, 50.56, 52.14, 53.72, 55.3 ,\n",
       "        56.88, 58.46, 60.04, 61.62, 63.2 , 64.78, 66.36, 67.94, 69.52,\n",
       "        71.1 , 72.68, 74.26, 75.84, 77.42, 79.  ]),\n",
       " <a list of 50 Patch objects>)"
      ]
     },
     "execution_count": 345,
     "metadata": {},
     "output_type": "execute_result"
    },
    {
     "data": {
      "image/png": "[encoded data removed]",
      "text/plain": [
       "<Figure size 460.8x403.2 with 1 Axes>"
      ]
     },
     "metadata": {},
     "output_type": "display_data"
    }
   ],
   "source": [
    "plt.hist(data_train['shot_distance'], bins = 50)"
   ]
  },
  {
   "cell_type": "code",
   "execution_count": 346,
   "metadata": {},
   "outputs": [
    {
     "data": {
      "text/plain": [
       "<matplotlib.collections.PathCollection at 0x26f167b8808>"
      ]
     },
     "execution_count": 346,
     "metadata": {},
     "output_type": "execute_result"
    },
    {
     "data": {
      "image/png": "[encoded data removed]",
      "text/plain": [
       "<Figure size 460.8x403.2 with 1 Axes>"
      ]
     },
     "metadata": {},
     "output_type": "display_data"
    }
   ],
   "source": [
    "plt.scatter(data_train['loc_y'], data_train['shot_distance'])"
   ]
  },
  {
   "cell_type": "code",
   "execution_count": 347,
   "metadata": {},
   "outputs": [],
   "source": [
    "y = data_train['shot_made_flag']"
   ]
  },
  {
   "cell_type": "code",
   "execution_count": 348,
   "metadata": {},
   "outputs": [],
   "source": [
    "X =data_train[feat_num + feat_cat].copy()"
   ]
  },
  {
   "cell_type": "markdown",
   "metadata": {},
   "source": [
    "Разложим категориальный признак даты на год и месяц, чтобы учесть сезонные колебания. Также оставим как есть поле season, чтобы показать группу матчей сезона (содержит два года)"
   ]
  },
  {
   "cell_type": "code",
   "execution_count": 349,
   "metadata": {},
   "outputs": [],
   "source": [
    "def Month(x):\n",
    "    return int(x[5:7])\n",
    "def Year(x):\n",
    "    return int(x[0:4])\n",
    "\n",
    "X['month'] = X.apply(lambda x: Month(x['game_date']), axis = 1)\n",
    "X['year'] = X.apply(lambda x: Year(x['game_date']), axis = 1)\n",
    "X.drop(['game_date'], axis = 1, inplace = True)\n",
    "feat_num += ['month', 'year']\n",
    "feat_cat.remove('game_date')"
   ]
  },
  {
   "cell_type": "code",
   "execution_count": 350,
   "metadata": {},
   "outputs": [
    {
     "data": {
      "text/html": [
       "<div>\n",
       "<style scoped>\n",
       "    .dataframe tbody tr th:only-of-type {\n",
       "        vertical-align: middle;\n",
       "    }\n",
       "\n",
       "    .dataframe tbody tr th {\n",
       "        vertical-align: top;\n",
       "    }\n",
       "\n",
       "    .dataframe thead th {\n",
       "        text-align: right;\n",
       "    }\n",
       "</style>\n",
       "<table border=\"1\" class=\"dataframe\">\n",
       "  <thead>\n",
       "    <tr style=\"text-align: right;\">\n",
       "      <th></th>\n",
       "      <th>game_event_id</th>\n",
       "      <th>game_id</th>\n",
       "      <th>loc_x</th>\n",
       "      <th>loc_y</th>\n",
       "      <th>minutes_remaining</th>\n",
       "      <th>period</th>\n",
       "      <th>playoffs</th>\n",
       "      <th>seconds_remaining</th>\n",
       "      <th>shot_distance</th>\n",
       "      <th>action_type</th>\n",
       "      <th>combined_shot_type</th>\n",
       "      <th>season</th>\n",
       "      <th>shot_type</th>\n",
       "      <th>shot_zone_area</th>\n",
       "      <th>shot_zone_basic</th>\n",
       "      <th>shot_zone_range</th>\n",
       "      <th>opponent</th>\n",
       "      <th>month</th>\n",
       "      <th>year</th>\n",
       "    </tr>\n",
       "  </thead>\n",
       "  <tbody>\n",
       "    <tr>\n",
       "      <td>1</td>\n",
       "      <td>12</td>\n",
       "      <td>20000012</td>\n",
       "      <td>-157</td>\n",
       "      <td>0</td>\n",
       "      <td>10</td>\n",
       "      <td>1</td>\n",
       "      <td>0</td>\n",
       "      <td>22</td>\n",
       "      <td>15</td>\n",
       "      <td>Jump Shot</td>\n",
       "      <td>Jump Shot</td>\n",
       "      <td>2000-01</td>\n",
       "      <td>2PT Field Goal</td>\n",
       "      <td>Left Side(L)</td>\n",
       "      <td>Mid-Range</td>\n",
       "      <td>8-16 ft.</td>\n",
       "      <td>POR</td>\n",
       "      <td>10</td>\n",
       "      <td>2000</td>\n",
       "    </tr>\n",
       "    <tr>\n",
       "      <td>2</td>\n",
       "      <td>35</td>\n",
       "      <td>20000012</td>\n",
       "      <td>-101</td>\n",
       "      <td>135</td>\n",
       "      <td>7</td>\n",
       "      <td>1</td>\n",
       "      <td>0</td>\n",
       "      <td>45</td>\n",
       "      <td>16</td>\n",
       "      <td>Jump Shot</td>\n",
       "      <td>Jump Shot</td>\n",
       "      <td>2000-01</td>\n",
       "      <td>2PT Field Goal</td>\n",
       "      <td>Left Side Center(LC)</td>\n",
       "      <td>Mid-Range</td>\n",
       "      <td>16-24 ft.</td>\n",
       "      <td>POR</td>\n",
       "      <td>10</td>\n",
       "      <td>2000</td>\n",
       "    </tr>\n",
       "    <tr>\n",
       "      <td>3</td>\n",
       "      <td>43</td>\n",
       "      <td>20000012</td>\n",
       "      <td>138</td>\n",
       "      <td>175</td>\n",
       "      <td>6</td>\n",
       "      <td>1</td>\n",
       "      <td>0</td>\n",
       "      <td>52</td>\n",
       "      <td>22</td>\n",
       "      <td>Jump Shot</td>\n",
       "      <td>Jump Shot</td>\n",
       "      <td>2000-01</td>\n",
       "      <td>2PT Field Goal</td>\n",
       "      <td>Right Side Center(RC)</td>\n",
       "      <td>Mid-Range</td>\n",
       "      <td>16-24 ft.</td>\n",
       "      <td>POR</td>\n",
       "      <td>10</td>\n",
       "      <td>2000</td>\n",
       "    </tr>\n",
       "  </tbody>\n",
       "</table>\n",
       "</div>"
      ],
      "text/plain": [
       "   game_event_id   game_id  loc_x  loc_y  minutes_remaining  period  playoffs  \\\n",
       "1             12  20000012   -157      0                 10       1         0   \n",
       "2             35  20000012   -101    135                  7       1         0   \n",
       "3             43  20000012    138    175                  6       1         0   \n",
       "\n",
       "   seconds_remaining  shot_distance action_type combined_shot_type   season  \\\n",
       "1                 22             15   Jump Shot          Jump Shot  2000-01   \n",
       "2                 45             16   Jump Shot          Jump Shot  2000-01   \n",
       "3                 52             22   Jump Shot          Jump Shot  2000-01   \n",
       "\n",
       "        shot_type         shot_zone_area shot_zone_basic shot_zone_range  \\\n",
       "1  2PT Field Goal           Left Side(L)       Mid-Range        8-16 ft.   \n",
       "2  2PT Field Goal   Left Side Center(LC)       Mid-Range       16-24 ft.   \n",
       "3  2PT Field Goal  Right Side Center(RC)       Mid-Range       16-24 ft.   \n",
       "\n",
       "  opponent  month  year  \n",
       "1      POR     10  2000  \n",
       "2      POR     10  2000  \n",
       "3      POR     10  2000  "
      ]
     },
     "execution_count": 350,
     "metadata": {},
     "output_type": "execute_result"
    }
   ],
   "source": [
    "X.head(3)"
   ]
  },
  {
   "cell_type": "markdown",
   "metadata": {},
   "source": [
    "Выполним onehotencoding для категориальных признаков"
   ]
  },
  {
   "cell_type": "code",
   "execution_count": 351,
   "metadata": {},
   "outputs": [],
   "source": [
    "X = pd.get_dummies(X, columns=feat_cat)"
   ]
  },
  {
   "cell_type": "code",
   "execution_count": 352,
   "metadata": {},
   "outputs": [
    {
     "data": {
      "text/html": [
       "<div>\n",
       "<style scoped>\n",
       "    .dataframe tbody tr th:only-of-type {\n",
       "        vertical-align: middle;\n",
       "    }\n",
       "\n",
       "    .dataframe tbody tr th {\n",
       "        vertical-align: top;\n",
       "    }\n",
       "\n",
       "    .dataframe thead th {\n",
       "        text-align: right;\n",
       "    }\n",
       "</style>\n",
       "<table border=\"1\" class=\"dataframe\">\n",
       "  <thead>\n",
       "    <tr style=\"text-align: right;\">\n",
       "      <th></th>\n",
       "      <th>game_event_id</th>\n",
       "      <th>game_id</th>\n",
       "      <th>loc_x</th>\n",
       "      <th>loc_y</th>\n",
       "      <th>minutes_remaining</th>\n",
       "      <th>period</th>\n",
       "      <th>playoffs</th>\n",
       "      <th>seconds_remaining</th>\n",
       "      <th>shot_distance</th>\n",
       "      <th>month</th>\n",
       "      <th>...</th>\n",
       "      <th>opponent_PHI</th>\n",
       "      <th>opponent_PHX</th>\n",
       "      <th>opponent_POR</th>\n",
       "      <th>opponent_SAC</th>\n",
       "      <th>opponent_SAS</th>\n",
       "      <th>opponent_SEA</th>\n",
       "      <th>opponent_TOR</th>\n",
       "      <th>opponent_UTA</th>\n",
       "      <th>opponent_VAN</th>\n",
       "      <th>opponent_WAS</th>\n",
       "    </tr>\n",
       "  </thead>\n",
       "  <tbody>\n",
       "    <tr>\n",
       "      <td>1</td>\n",
       "      <td>12</td>\n",
       "      <td>20000012</td>\n",
       "      <td>-157</td>\n",
       "      <td>0</td>\n",
       "      <td>10</td>\n",
       "      <td>1</td>\n",
       "      <td>0</td>\n",
       "      <td>22</td>\n",
       "      <td>15</td>\n",
       "      <td>10</td>\n",
       "      <td>...</td>\n",
       "      <td>0</td>\n",
       "      <td>0</td>\n",
       "      <td>1</td>\n",
       "      <td>0</td>\n",
       "      <td>0</td>\n",
       "      <td>0</td>\n",
       "      <td>0</td>\n",
       "      <td>0</td>\n",
       "      <td>0</td>\n",
       "      <td>0</td>\n",
       "    </tr>\n",
       "    <tr>\n",
       "      <td>2</td>\n",
       "      <td>35</td>\n",
       "      <td>20000012</td>\n",
       "      <td>-101</td>\n",
       "      <td>135</td>\n",
       "      <td>7</td>\n",
       "      <td>1</td>\n",
       "      <td>0</td>\n",
       "      <td>45</td>\n",
       "      <td>16</td>\n",
       "      <td>10</td>\n",
       "      <td>...</td>\n",
       "      <td>0</td>\n",
       "      <td>0</td>\n",
       "      <td>1</td>\n",
       "      <td>0</td>\n",
       "      <td>0</td>\n",
       "      <td>0</td>\n",
       "      <td>0</td>\n",
       "      <td>0</td>\n",
       "      <td>0</td>\n",
       "      <td>0</td>\n",
       "    </tr>\n",
       "    <tr>\n",
       "      <td>3</td>\n",
       "      <td>43</td>\n",
       "      <td>20000012</td>\n",
       "      <td>138</td>\n",
       "      <td>175</td>\n",
       "      <td>6</td>\n",
       "      <td>1</td>\n",
       "      <td>0</td>\n",
       "      <td>52</td>\n",
       "      <td>22</td>\n",
       "      <td>10</td>\n",
       "      <td>...</td>\n",
       "      <td>0</td>\n",
       "      <td>0</td>\n",
       "      <td>1</td>\n",
       "      <td>0</td>\n",
       "      <td>0</td>\n",
       "      <td>0</td>\n",
       "      <td>0</td>\n",
       "      <td>0</td>\n",
       "      <td>0</td>\n",
       "      <td>0</td>\n",
       "    </tr>\n",
       "  </tbody>\n",
       "</table>\n",
       "<p>3 rows × 145 columns</p>\n",
       "</div>"
      ],
      "text/plain": [
       "   game_event_id   game_id  loc_x  loc_y  minutes_remaining  period  playoffs  \\\n",
       "1             12  20000012   -157      0                 10       1         0   \n",
       "2             35  20000012   -101    135                  7       1         0   \n",
       "3             43  20000012    138    175                  6       1         0   \n",
       "\n",
       "   seconds_remaining  shot_distance  month  ...  opponent_PHI  opponent_PHX  \\\n",
       "1                 22             15     10  ...             0             0   \n",
       "2                 45             16     10  ...             0             0   \n",
       "3                 52             22     10  ...             0             0   \n",
       "\n",
       "   opponent_POR  opponent_SAC  opponent_SAS  opponent_SEA  opponent_TOR  \\\n",
       "1             1             0             0             0             0   \n",
       "2             1             0             0             0             0   \n",
       "3             1             0             0             0             0   \n",
       "\n",
       "   opponent_UTA  opponent_VAN  opponent_WAS  \n",
       "1             0             0             0  \n",
       "2             0             0             0  \n",
       "3             0             0             0  \n",
       "\n",
       "[3 rows x 145 columns]"
      ]
     },
     "execution_count": 352,
     "metadata": {},
     "output_type": "execute_result"
    }
   ],
   "source": [
    "X.head(3)"
   ]
  },
  {
   "cell_type": "markdown",
   "metadata": {},
   "source": [
    "Нормализуем данные на случай, если придется использовать методы, классификации, чувствительные к диапозонам данных (e.g. svm)"
   ]
  },
  {
   "cell_type": "code",
   "execution_count": 353,
   "metadata": {},
   "outputs": [],
   "source": [
    "from sklearn.preprocessing import StandardScaler\n",
    "scaler = StandardScaler()\n",
    "Xm = scaler.fit_transform(X)"
   ]
  },
  {
   "cell_type": "markdown",
   "metadata": {},
   "source": [
    "Разделим датасет на тренировочный и тестовый:"
   ]
  },
  {
   "cell_type": "code",
   "execution_count": 354,
   "metadata": {},
   "outputs": [],
   "source": [
    "from sklearn.model_selection import train_test_split\n",
    "X_train, X_test, y_train, y_test = train_test_split(Xm, y, test_size=0.3, random_state=0)"
   ]
  },
  {
   "cell_type": "markdown",
   "metadata": {},
   "source": [
    "Применим различные методы классификаторов и оценим их результаты:\n",
    "для начала пристрелочный вариант с универсальным методом случаного леса"
   ]
  },
  {
   "cell_type": "code",
   "execution_count": 355,
   "metadata": {},
   "outputs": [],
   "source": [
    "from sklearn.linear_model import Lasso\n",
    "from sklearn.linear_model import RidgeClassifier\n",
    "from sklearn.linear_model import LogisticRegression\n",
    "from sklearn.neighbors import KNeighborsClassifier\n",
    "from sklearn.svm import SVC\n",
    "from sklearn.ensemble import RandomForestClassifier\n",
    "from sklearn.ensemble import StackingClassifier\n",
    "from sklearn.model_selection import cross_val_score\n",
    "from mlxtend.classifier import StackingCVClassifier"
   ]
  },
  {
   "cell_type": "code",
   "execution_count": 356,
   "metadata": {},
   "outputs": [
    {
     "data": {
      "text/plain": [
       "RandomForestClassifier(max_depth=20, min_samples_leaf=20)"
      ]
     },
     "execution_count": 356,
     "metadata": {},
     "output_type": "execute_result"
    }
   ],
   "source": [
    "rfc = RandomForestClassifier(\n",
    "    n_estimators=100,\n",
    "    max_depth=20, \n",
    "    min_samples_leaf=20\n",
    ")\n",
    "rfc.fit(X_train, y_train)"
   ]
  },
  {
   "cell_type": "markdown",
   "metadata": {},
   "source": [
    "Посмотрим на важность признаков. В TOP5 попадают: action_type (определнных типов), shot_distance, loc_y"
   ]
  },
  {
   "cell_type": "code",
   "execution_count": 357,
   "metadata": {},
   "outputs": [
    {
     "data": {
      "text/plain": [
       "([<matplotlib.axis.YTick at 0x26f168160c8>,\n",
       "  <matplotlib.axis.YTick at 0x26f1680cb08>,\n",
       "  <matplotlib.axis.YTick at 0x26f167ff808>,\n",
       "  <matplotlib.axis.YTick at 0x26f16887348>,\n",
       "  <matplotlib.axis.YTick at 0x26f168879c8>,\n",
       "  <matplotlib.axis.YTick at 0x26f16887588>,\n",
       "  <matplotlib.axis.YTick at 0x26f1688b688>,\n",
       "  <matplotlib.axis.YTick at 0x26f1688f188>,\n",
       "  <matplotlib.axis.YTick at 0x26f1688f648>,\n",
       "  <matplotlib.axis.YTick at 0x26f1688fd08>,\n",
       "  <matplotlib.axis.YTick at 0x26f16893808>,\n",
       "  <matplotlib.axis.YTick at 0x26f16898348>,\n",
       "  <matplotlib.axis.YTick at 0x26f16898e88>,\n",
       "  <matplotlib.axis.YTick at 0x26f1689ca08>,\n",
       "  <matplotlib.axis.YTick at 0x26f16893508>,\n",
       "  <matplotlib.axis.YTick at 0x26f1688b548>,\n",
       "  <matplotlib.axis.YTick at 0x26f168a0ac8>,\n",
       "  <matplotlib.axis.YTick at 0x26f168a34c8>,\n",
       "  <matplotlib.axis.YTick at 0x26f168a6188>,\n",
       "  <matplotlib.axis.YTick at 0x26f168a6b88>,\n",
       "  <matplotlib.axis.YTick at 0x26f168ab708>,\n",
       "  <matplotlib.axis.YTick at 0x26f168af048>,\n",
       "  <matplotlib.axis.YTick at 0x26f168afdc8>,\n",
       "  <matplotlib.axis.YTick at 0x26f16e12948>,\n",
       "  <matplotlib.axis.YTick at 0x26f168af948>,\n",
       "  <matplotlib.axis.YTick at 0x26f168a0dc8>,\n",
       "  <matplotlib.axis.YTick at 0x26f16e16848>,\n",
       "  <matplotlib.axis.YTick at 0x26f16e18248>,\n",
       "  <matplotlib.axis.YTick at 0x26f16e18e08>,\n",
       "  <matplotlib.axis.YTick at 0x26f16e1c948>],\n",
       " <a list of 30 Text yticklabel objects>)"
      ]
     },
     "execution_count": 357,
     "metadata": {},
     "output_type": "execute_result"
    },
    {
     "data": {
      "image/png": "[encoded data removed]",
      "text/plain": [
       "<Figure size 576x720 with 1 Axes>"
      ]
     },
     "metadata": {},
     "output_type": "display_data"
    }
   ],
   "source": [
    "feat_imp = np.hstack((rfc.feature_importances_.reshape(-1, 1), X.columns.ravel().reshape(-1,1)))\n",
    "FI = feat_imp[feat_imp[:,0]>0.005]\n",
    "plt.figure(figsize=(8, 10))\n",
    "plt.barh(np.arange(len(FI)), FI[:,0])\n",
    "plt.yticks(np.arange(len(FI)),FI[:,1])"
   ]
  },
  {
   "cell_type": "markdown",
   "metadata": {},
   "source": [
    "Оценим результаты работы модели:"
   ]
  },
  {
   "cell_type": "code",
   "execution_count": 358,
   "metadata": {},
   "outputs": [
    {
     "data": {
      "text/plain": [
       "0.6809338521400778"
      ]
     },
     "execution_count": 358,
     "metadata": {},
     "output_type": "execute_result"
    }
   ],
   "source": [
    "rfc.score(X_test, y_test)"
   ]
  },
  {
   "cell_type": "code",
   "execution_count": 359,
   "metadata": {},
   "outputs": [
    {
     "data": {
      "text/plain": [
       "0.6911102462889865"
      ]
     },
     "execution_count": 359,
     "metadata": {},
     "output_type": "execute_result"
    }
   ],
   "source": [
    "rfc.score(X_train, y_train)"
   ]
  },
  {
   "cell_type": "markdown",
   "metadata": {},
   "source": [
    "Подберем оптимальне параметры для случайного леса:"
   ]
  },
  {
   "cell_type": "code",
   "execution_count": 360,
   "metadata": {},
   "outputs": [],
   "source": [
    "scores = []\n",
    "params = []\n",
    "for depth in range(20,2,-2):\n",
    "    for leaf in range(20,2,-2):\n",
    "        rfc = RandomForestClassifier(\n",
    "            n_estimators = 20,\n",
    "            max_depth = depth, \n",
    "            min_samples_leaf = leaf\n",
    "        )\n",
    "        rfc.fit(X_train, y_train)\n",
    "        scores.append(rfc.score(X_test, y_test))\n",
    "        params.append([depth, leaf])"
   ]
  },
  {
   "cell_type": "code",
   "execution_count": 361,
   "metadata": {},
   "outputs": [
    {
     "name": "stdout",
     "output_type": "stream",
     "text": [
      "Максимальная точность на тестовом датасете равна:  0.6813229571984436\n",
      "Максимальная точность на тренировочномм датасете равна:  0.7018958136431868\n",
      "при параметрах: max_depth  16 , min_samples_leaf  6\n",
      "\n"
     ]
    }
   ],
   "source": [
    "max_index = np.argmax(np.array(scores))\n",
    "rfc = RandomForestClassifier(\n",
    "            n_estimators = 100,\n",
    "            max_depth = params[max_index][0], \n",
    "            min_samples_leaf= params[max_index][1]\n",
    "            )\n",
    "rfc.fit(X_train, y_train)\n",
    "        \n",
    "print('Максимальная точность на тестовом датасете равна: ', rfc.score(X_test, y_test))\n",
    "print('Максимальная точность на тренировочномм датасете равна: ', rfc.score(X_train, y_train))\n",
    "print('при параметрах: max_depth ', rfc.max_depth, ', min_samples_leaf ', rfc.min_samples_leaf)\n",
    "print('')"
   ]
  },
  {
   "cell_type": "markdown",
   "metadata": {},
   "source": [
    "Так как стэкинг может включать в себя несколько методов, то попробуем включить в него все остальные методы и заодно проверить их отдельные значения"
   ]
  },
  {
   "cell_type": "code",
   "execution_count": 362,
   "metadata": {},
   "outputs": [
    {
     "name": "stderr",
     "output_type": "stream",
     "text": [
      "C:\\ProgramFiles\\Anaconda3\\lib\\site-packages\\sklearn\\linear_model\\_logistic.py:765: ConvergenceWarning: lbfgs failed to converge (status=1):\n",
      "STOP: TOTAL NO. of ITERATIONS REACHED LIMIT.\n",
      "\n",
      "Increase the number of iterations (max_iter) or scale the data as shown in:\n",
      "    https://scikit-learn.org/stable/modules/preprocessing.html\n",
      "Please also refer to the documentation for alternative solver options:\n",
      "    https://scikit-learn.org/stable/modules/linear_model.html#logistic-regression\n",
      "  extra_warning_msg=_LOGISTIC_SOLVER_CONVERGENCE_MSG)\n",
      "C:\\ProgramFiles\\Anaconda3\\lib\\site-packages\\sklearn\\linear_model\\_logistic.py:765: ConvergenceWarning: lbfgs failed to converge (status=1):\n",
      "STOP: TOTAL NO. of ITERATIONS REACHED LIMIT.\n",
      "\n",
      "Increase the number of iterations (max_iter) or scale the data as shown in:\n",
      "    https://scikit-learn.org/stable/modules/preprocessing.html\n",
      "Please also refer to the documentation for alternative solver options:\n",
      "    https://scikit-learn.org/stable/modules/linear_model.html#logistic-regression\n",
      "  extra_warning_msg=_LOGISTIC_SOLVER_CONVERGENCE_MSG)\n",
      "C:\\ProgramFiles\\Anaconda3\\lib\\site-packages\\sklearn\\linear_model\\_logistic.py:765: ConvergenceWarning: lbfgs failed to converge (status=1):\n",
      "STOP: TOTAL NO. of ITERATIONS REACHED LIMIT.\n",
      "\n",
      "Increase the number of iterations (max_iter) or scale the data as shown in:\n",
      "    https://scikit-learn.org/stable/modules/preprocessing.html\n",
      "Please also refer to the documentation for alternative solver options:\n",
      "    https://scikit-learn.org/stable/modules/linear_model.html#logistic-regression\n",
      "  extra_warning_msg=_LOGISTIC_SOLVER_CONVERGENCE_MSG)\n",
      "C:\\ProgramFiles\\Anaconda3\\lib\\site-packages\\sklearn\\linear_model\\_logistic.py:765: ConvergenceWarning: lbfgs failed to converge (status=1):\n",
      "STOP: TOTAL NO. of ITERATIONS REACHED LIMIT.\n",
      "\n",
      "Increase the number of iterations (max_iter) or scale the data as shown in:\n",
      "    https://scikit-learn.org/stable/modules/preprocessing.html\n",
      "Please also refer to the documentation for alternative solver options:\n",
      "    https://scikit-learn.org/stable/modules/linear_model.html#logistic-regression\n",
      "  extra_warning_msg=_LOGISTIC_SOLVER_CONVERGENCE_MSG)\n",
      "C:\\ProgramFiles\\Anaconda3\\lib\\site-packages\\sklearn\\linear_model\\_logistic.py:765: ConvergenceWarning: lbfgs failed to converge (status=1):\n",
      "STOP: TOTAL NO. of ITERATIONS REACHED LIMIT.\n",
      "\n",
      "Increase the number of iterations (max_iter) or scale the data as shown in:\n",
      "    https://scikit-learn.org/stable/modules/preprocessing.html\n",
      "Please also refer to the documentation for alternative solver options:\n",
      "    https://scikit-learn.org/stable/modules/linear_model.html#logistic-regression\n",
      "  extra_warning_msg=_LOGISTIC_SOLVER_CONVERGENCE_MSG)\n",
      "C:\\ProgramFiles\\Anaconda3\\lib\\site-packages\\sklearn\\linear_model\\_logistic.py:765: ConvergenceWarning: lbfgs failed to converge (status=1):\n",
      "STOP: TOTAL NO. of ITERATIONS REACHED LIMIT.\n",
      "\n",
      "Increase the number of iterations (max_iter) or scale the data as shown in:\n",
      "    https://scikit-learn.org/stable/modules/preprocessing.html\n",
      "Please also refer to the documentation for alternative solver options:\n",
      "    https://scikit-learn.org/stable/modules/linear_model.html#logistic-regression\n",
      "  extra_warning_msg=_LOGISTIC_SOLVER_CONVERGENCE_MSG)\n"
     ]
    },
    {
     "data": {
      "text/plain": [
       "StackingClassifier(estimators=[('log', LogisticRegression()), ('svm', SVC()),\n",
       "                               ('rf',\n",
       "                                RandomForestClassifier(max_depth=12,\n",
       "                                                       min_samples_leaf=16,\n",
       "                                                       random_state=42)),\n",
       "                               ('ri', RidgeClassifier())],\n",
       "                   final_estimator=RandomForestClassifier())"
      ]
     },
     "execution_count": 362,
     "metadata": {},
     "output_type": "execute_result"
    }
   ],
   "source": [
    "Stacking_Classifier = StackingClassifier(\n",
    "    [\n",
    "        ('log', LogisticRegression()),\n",
    "        ('svm', SVC()),\n",
    "        ('rf', RandomForestClassifier(max_depth=12, min_samples_leaf=16, random_state=42)),\n",
    "        ('ri', RidgeClassifier())\n",
    "    ],\n",
    "RandomForestClassifier())\n",
    "\n",
    "Stacking_Classifier.fit(X_train, y_train)"
   ]
  },
  {
   "cell_type": "code",
   "execution_count": 363,
   "metadata": {},
   "outputs": [
    {
     "name": "stdout",
     "output_type": "stream",
     "text": [
      " r2 score for stacking classification model:  0.6443579766536965 \n",
      " r2 score for linear classification model:  0.6802853437094682 \n",
      " r2 score for Support Vector classification model:  0.6779507133592737 \n",
      " r2 score for Random Forest classification model:  0.6800259403372244 \n",
      " r2 score for Ridge classification model:  0.6798962386511025\n"
     ]
    }
   ],
   "source": [
    "print(\n",
    "    ' r2 score for stacking classification model: ', Stacking_Classifier.score(X_test, y_test),\n",
    "    '\\n r2 score for linear classification model: ', Stacking_Classifier.named_estimators_['log'].score(X_test, y_test),\n",
    "    '\\n r2 score for Support Vector classification model: ', Stacking_Classifier.named_estimators_['svm'].score(X_test, y_test),\n",
    "    '\\n r2 score for Random Forest classification model: ', Stacking_Classifier.named_estimators_['rf'].score(X_test, y_test),\n",
    "    '\\n r2 score for Ridge classification model: ', Stacking_Classifier.named_estimators_['ri'].score(X_test, y_test)\n",
    ")\n"
   ]
  },
  {
   "cell_type": "markdown",
   "metadata": {},
   "source": [
    "Отобразим график зависимости показателя точности от гиперпараметра альфа. Пик точности приходится на значение альфа = 10"
   ]
  },
  {
   "cell_type": "code",
   "execution_count": 364,
   "metadata": {},
   "outputs": [
    {
     "data": {
      "text/plain": [
       "[0.6798962386511025,\n",
       " 0.6798962386511025,\n",
       " 0.6798962386511025,\n",
       " 0.6798962386511025,\n",
       " 0.6798962386511025,\n",
       " 0.6798962386511025,\n",
       " 0.6798962386511025,\n",
       " 0.6798962386511025,\n",
       " 0.6798962386511025,\n",
       " 0.6798962386511025,\n",
       " 0.6797665369649806,\n",
       " 0.6797665369649806,\n",
       " 0.6798962386511025,\n",
       " 0.6798962386511025,\n",
       " 0.6798962386511025]"
      ]
     },
     "execution_count": 364,
     "metadata": {},
     "output_type": "execute_result"
    }
   ],
   "source": [
    "alfa = [0.1, 0.2, 0.3, 0.4, 0.5, 0.6, 0.7, 0.8, 0.9, 1, 5, 7, 10, 15, 18]\n",
    "score_ridge = []\n",
    "score_ridge_train = []\n",
    "for para in alfa:\n",
    "    rc = RidgeClassifier(alpha = para)\n",
    "    rc.fit(X_train, y_train)\n",
    "    #rc.score(X_test, y_test)\n",
    "    score_ridge.append(rc.score(X_test, y_test))\n",
    "    score_ridge_train.append(rc.score(X_train, y_train))\n",
    "score_ridge"
   ]
  },
  {
   "cell_type": "markdown",
   "metadata": {},
   "source": [
    "Построим ROC и precision-recall графики. так как количество количество наблюдение в целевых классов условно одинаковое. поэтому можем использовать для оенки ROC кривую"
   ]
  },
  {
   "cell_type": "code",
   "execution_count": 365,
   "metadata": {},
   "outputs": [
    {
     "name": "stderr",
     "output_type": "stream",
     "text": [
      "C:\\ProgramFiles\\Anaconda3\\lib\\site-packages\\sklearn\\linear_model\\_logistic.py:765: ConvergenceWarning: lbfgs failed to converge (status=1):\n",
      "STOP: TOTAL NO. of ITERATIONS REACHED LIMIT.\n",
      "\n",
      "Increase the number of iterations (max_iter) or scale the data as shown in:\n",
      "    https://scikit-learn.org/stable/modules/preprocessing.html\n",
      "Please also refer to the documentation for alternative solver options:\n",
      "    https://scikit-learn.org/stable/modules/linear_model.html#logistic-regression\n",
      "  extra_warning_msg=_LOGISTIC_SOLVER_CONVERGENCE_MSG)\n"
     ]
    },
    {
     "data": {
      "text/plain": [
       "SVC(probability=True)"
      ]
     },
     "execution_count": 365,
     "metadata": {},
     "output_type": "execute_result"
    }
   ],
   "source": [
    "rfc = RandomForestClassifier()\n",
    "rfc.fit(X_train, y_train)\n",
    "lr = LogisticRegression()\n",
    "lr.fit(X_train, y_train)\n",
    "svc = SVC(probability = True)\n",
    "svc.fit(X_train, y_train)"
   ]
  },
  {
   "cell_type": "code",
   "execution_count": 366,
   "metadata": {},
   "outputs": [],
   "source": [
    "predictions_rfc = rfc.predict_proba(X_test)\n",
    "predictions_lr = lr.predict_proba(X_test)\n",
    "predictions_svc = svc.predict_proba(X_test)"
   ]
  },
  {
   "cell_type": "code",
   "execution_count": 367,
   "metadata": {},
   "outputs": [
    {
     "data": {
      "text/plain": [
       "Text(0, 0.5, 'True Positive Rate')"
      ]
     },
     "execution_count": 367,
     "metadata": {},
     "output_type": "execute_result"
    },
    {
     "data": {
      "image/png": "[encoded data removed]",
      "text/plain": [
       "<Figure size 460.8x403.2 with 1 Axes>"
      ]
     },
     "metadata": {},
     "output_type": "display_data"
    }
   ],
   "source": [
    "fpr_rfc, tpr_rfc, thres_rfc = roc_curve( y_test, predictions_rfc[:, 1] )\n",
    "fpr_lr, tpr_lr, thres_lr = roc_curve( y_test, predictions_lr[:, 1] )\n",
    "fpr_svc, tpr_svc, thres_svc = roc_curve( y_test, predictions_svc[:, 1] )\n",
    "fig, ax = plt.subplots()\n",
    "ax.plot( fpr_rfc, tpr_rfc)\n",
    "ax.plot( fpr_lr, tpr_lr)\n",
    "ax.plot( fpr_svc, tpr_svc)\n",
    "plt.xlabel(\"False Positive Rate\")\n",
    "plt.ylabel(\"True Positive Rate\")"
   ]
  },
  {
   "cell_type": "code",
   "execution_count": 368,
   "metadata": {},
   "outputs": [
    {
     "data": {
      "text/plain": [
       "Text(0, 0.5, 'precision')"
      ]
     },
     "execution_count": 368,
     "metadata": {},
     "output_type": "execute_result"
    },
    {
     "data": {
      "image/png": "[encoded data removed]",
      "text/plain": [
       "<Figure size 460.8x403.2 with 1 Axes>"
      ]
     },
     "metadata": {},
     "output_type": "display_data"
    }
   ],
   "source": [
    "#precision и recall\n",
    "precision_rfc, recall_rfc, thres_rfc = precision_recall_curve(y_test, predictions_rfc[:, 1] )\n",
    "precision_lr, recall_lr, thres_lr = precision_recall_curve(y_test, predictions_lr[:, 1] )\n",
    "precision_svc, recall_svc, thres_svc = precision_recall_curve(y_test, predictions_svc[:, 1] )\n",
    "fig, ax = plt.subplots()\n",
    "ax.plot(recall_rfc, precision_rfc)\n",
    "ax.plot(recall_lr, precision_lr)\n",
    "ax.plot(recall_svc, precision_svc)\n",
    "plt.xlabel(\"recall\")\n",
    "plt.ylabel(\"precision\")"
   ]
  },
  {
   "cell_type": "code",
   "execution_count": 369,
   "metadata": {},
   "outputs": [
    {
     "name": "stdout",
     "output_type": "stream",
     "text": [
      "AUC: rfc= 0.6780397033335007 ,logistic Regresstion =  0.6875444082932591 , support vector =  0.68032642346657\n"
     ]
    }
   ],
   "source": [
    "auc_rfc = roc_auc_score(y_test, predictions_rfc[:, 1])\n",
    "auc_lr = roc_auc_score(y_test, predictions_lr[:, 1])\n",
    "auc_svc = roc_auc_score(y_test, predictions_svc[:, 1])\n",
    "print('AUC: rfc=',auc_rfc, ',logistic Regresstion = ', auc_lr, ', support vector = ', auc_svc )"
   ]
  },
  {
   "cell_type": "markdown",
   "metadata": {},
   "source": [
    "Построим PCA и выведем компоненты, которые составляют наибольшуючасть дисперсии и наиболее важные. странно, что они отличаются от тех, которые были найдены с помощью случайного леса фукцией Feature importance. метод PCA будем применять с целевым количетвом признаков, равных из количеству до преобразования"
   ]
  },
  {
   "cell_type": "code",
   "execution_count": 394,
   "metadata": {},
   "outputs": [],
   "source": [
    "from sklearn.decomposition import PCA\n",
    "\n",
    "pca = PCA()\n",
    "X_PCAreduced = pca.fit_transform(X_train)\n"
   ]
  },
  {
   "cell_type": "code",
   "execution_count": 407,
   "metadata": {},
   "outputs": [
    {
     "data": {
      "text/plain": [
       "array([[0.057107066736320114, 'game_event_id'],\n",
       "       [0.03252421746141276, 'game_id'],\n",
       "       [0.022425788294506924, 'loc_x'],\n",
       "       [0.01822592118941897, 'loc_y'],\n",
       "       [0.016373456648716544, 'minutes_remaining'],\n",
       "       [0.01531952093521745, 'period'],\n",
       "       [0.014849363916905127, 'playoffs'],\n",
       "       [0.013965640737639139, 'seconds_remaining'],\n",
       "       [0.013682942334391364, 'shot_distance'],\n",
       "       [0.013466213375570711, 'month'],\n",
       "       [0.013351657564593541, 'year'],\n",
       "       [0.013053184160526957, 'action_type_Alley Oop Dunk Shot'],\n",
       "       [0.011431544476493747, 'action_type_Alley Oop Layup shot'],\n",
       "       [0.010323400065002104, 'action_type_Cutting Layup Shot'],\n",
       "       [0.00989986457701103, 'action_type_Driving Bank shot'],\n",
       "       [0.009862625939383621, 'action_type_Driving Dunk Shot'],\n",
       "       [0.009840838723745197,\n",
       "        'action_type_Driving Finger Roll Layup Shot'],\n",
       "       [0.009825164446636088, 'action_type_Driving Finger Roll Shot'],\n",
       "       [0.00980874075978833,\n",
       "        'action_type_Driving Floating Bank Jump Shot'],\n",
       "       [0.009766228736975819, 'action_type_Driving Floating Jump Shot'],\n",
       "       [0.009452077842495047, 'action_type_Driving Hook Shot'],\n",
       "       [0.00925656503765751, 'action_type_Driving Jump shot'],\n",
       "       [0.00917916766143484, 'action_type_Driving Layup Shot'],\n",
       "       [0.008908407295389277, 'action_type_Driving Reverse Layup Shot'],\n",
       "       [0.008850826638451426, 'action_type_Driving Slam Dunk Shot'],\n",
       "       [0.008726553592924628, 'action_type_Dunk Shot'],\n",
       "       [0.008631855747120382, 'action_type_Fadeaway Bank shot'],\n",
       "       [0.008505962735740084, 'action_type_Fadeaway Jump Shot'],\n",
       "       [0.008470015858556175, 'action_type_Finger Roll Layup Shot'],\n",
       "       [0.008423506889000398, 'action_type_Finger Roll Shot'],\n",
       "       [0.008409910927839185, 'action_type_Floating Jump shot'],\n",
       "       [0.008295666016518497, 'action_type_Follow Up Dunk Shot'],\n",
       "       [0.008245660211244267, 'action_type_Hook Bank Shot'],\n",
       "       [0.008144493795579908, 'action_type_Hook Shot'],\n",
       "       [0.008049408562917979, 'action_type_Jump Bank Shot'],\n",
       "       [0.007970258054642765, 'action_type_Jump Hook Shot'],\n",
       "       [0.007897509878051075, 'action_type_Jump Shot'],\n",
       "       [0.007862814854792061, 'action_type_Layup Shot'],\n",
       "       [0.007795270520429108, 'action_type_Pullup Bank shot'],\n",
       "       [0.007733876075157316, 'action_type_Pullup Jump shot'],\n",
       "       [0.007708624284285536, 'action_type_Putback Dunk Shot'],\n",
       "       [0.007643713686849461, 'action_type_Putback Layup Shot'],\n",
       "       [0.007612047294332984, 'action_type_Putback Slam Dunk Shot'],\n",
       "       [0.007579943855172503, 'action_type_Reverse Dunk Shot'],\n",
       "       [0.007520955685366058, 'action_type_Reverse Layup Shot'],\n",
       "       [0.00749793797665675, 'action_type_Reverse Slam Dunk Shot'],\n",
       "       [0.007445263107750975, 'action_type_Running Bank shot'],\n",
       "       [0.007420745889300564, 'action_type_Running Dunk Shot'],\n",
       "       [0.007388641460202993,\n",
       "        'action_type_Running Finger Roll Layup Shot'],\n",
       "       [0.007344242666343819, 'action_type_Running Finger Roll Shot'],\n",
       "       [0.007328666149199284, 'action_type_Running Hook Shot'],\n",
       "       [0.007301506556070998, 'action_type_Running Jump Shot'],\n",
       "       [0.00728315404956486, 'action_type_Running Layup Shot'],\n",
       "       [0.007263700849227536, 'action_type_Running Pull-Up Jump Shot'],\n",
       "       [0.0072198432182801345, 'action_type_Running Reverse Layup Shot'],\n",
       "       [0.00720134468353242, 'action_type_Running Slam Dunk Shot'],\n",
       "       [0.00718834518653258, 'action_type_Running Tip Shot'],\n",
       "       [0.0071547336323610645, 'action_type_Slam Dunk Shot'],\n",
       "       [0.007141470852632183, 'action_type_Step Back Jump shot'],\n",
       "       [0.007094663419626622, 'action_type_Tip Layup Shot'],\n",
       "       [0.0070721482877517195, 'action_type_Tip Shot'],\n",
       "       [0.007060172730130921, 'action_type_Turnaround Bank shot'],\n",
       "       [0.0070258646583143515, 'action_type_Turnaround Fadeaway shot'],\n",
       "       [0.0069976914175497165, 'action_type_Turnaround Finger Roll Shot'],\n",
       "       [0.006969692609513117, 'action_type_Turnaround Hook Shot'],\n",
       "       [0.006946767768083135, 'action_type_Turnaround Jump Shot'],\n",
       "       [0.0069225166986078834, 'combined_shot_type_Bank Shot'],\n",
       "       [0.006902687866339219, 'combined_shot_type_Dunk'],\n",
       "       [0.006885447470360087, 'combined_shot_type_Hook Shot'],\n",
       "       [0.006873755937046942, 'combined_shot_type_Jump Shot'],\n",
       "       [0.006844124355682939, 'combined_shot_type_Layup'],\n",
       "       [0.00684066604589383, 'combined_shot_type_Tip Shot'],\n",
       "       [0.006818227447921118, 'season_1996-97'],\n",
       "       [0.006800607485964522, 'season_1997-98'],\n",
       "       [0.006752787991914174, 'season_1998-99'],\n",
       "       [0.006702298390263288, 'season_1999-00'],\n",
       "       [0.006684414507891981, 'season_2000-01'],\n",
       "       [0.006657376160799587, 'season_2001-02'],\n",
       "       [0.006654135429860041, 'season_2002-03'],\n",
       "       [0.006628970097836123, 'season_2003-04'],\n",
       "       [0.006603737422134408, 'season_2004-05'],\n",
       "       [0.006552512818380775, 'season_2005-06'],\n",
       "       [0.006535381858696979, 'season_2006-07'],\n",
       "       [0.006524928826068247, 'season_2007-08'],\n",
       "       [0.00649140990204419, 'season_2008-09'],\n",
       "       [0.0064704514807344075, 'season_2009-10'],\n",
       "       [0.006465985037209839, 'season_2010-11'],\n",
       "       [0.006406962974013973, 'season_2011-12'],\n",
       "       [0.006363013888506164, 'season_2012-13'],\n",
       "       [0.006353450692744461, 'season_2013-14'],\n",
       "       [0.006315322613653342, 'season_2014-15'],\n",
       "       [0.006268520374267195, 'season_2015-16'],\n",
       "       [0.006253339230063168, 'shot_type_2PT Field Goal'],\n",
       "       [0.006232194982656184, 'shot_type_3PT Field Goal'],\n",
       "       [0.006217636433898339, 'shot_zone_area_Back Court(BC)'],\n",
       "       [0.006158347502622651, 'shot_zone_area_Center(C)'],\n",
       "       [0.006150643912527429, 'shot_zone_area_Left Side Center(LC)'],\n",
       "       [0.006107052853286549, 'shot_zone_area_Left Side(L)'],\n",
       "       [0.006012035996692565, 'shot_zone_area_Right Side Center(RC)'],\n",
       "       [0.00595981023035151, 'shot_zone_area_Right Side(R)'],\n",
       "       [0.005884755884649959, 'shot_zone_basic_Above the Break 3'],\n",
       "       [0.005820326180627552, 'shot_zone_basic_Backcourt'],\n",
       "       [0.005800631551611233, 'shot_zone_basic_In The Paint (Non-RA)'],\n",
       "       [0.005761809046622747, 'shot_zone_basic_Left Corner 3'],\n",
       "       [0.005740662448305629, 'shot_zone_basic_Mid-Range'],\n",
       "       [0.005566715272629943, 'shot_zone_basic_Restricted Area'],\n",
       "       [0.005451379459479535, 'shot_zone_basic_Right Corner 3'],\n",
       "       [0.005386531179040434, 'shot_zone_range_16-24 ft.'],\n",
       "       [0.005325512785919507, 'shot_zone_range_24+ ft.'],\n",
       "       [0.005227459574667756, 'shot_zone_range_8-16 ft.'],\n",
       "       [0.004974687488803939, 'shot_zone_range_Back Court Shot'],\n",
       "       [0.0048702699689858265, 'shot_zone_range_Less Than 8 ft.'],\n",
       "       [0.004814216216729661, 'opponent_ATL'],\n",
       "       [0.004787629479023267, 'opponent_BKN'],\n",
       "       [0.0044532291798073725, 'opponent_BOS'],\n",
       "       [0.003712040646875995, 'opponent_CHA'],\n",
       "       [0.003336508137044236, 'opponent_CHI'],\n",
       "       [0.002645759976484419, 'opponent_CLE'],\n",
       "       [0.0019441270792357956, 'opponent_DAL'],\n",
       "       [0.0013234640266163215, 'opponent_DEN'],\n",
       "       [0.0007736304763991373, 'opponent_DET'],\n",
       "       [0.0005279688748721448, 'opponent_GSW'],\n",
       "       [0.00042250528349057747, 'opponent_HOU'],\n",
       "       [0.0003755991005063958, 'opponent_IND'],\n",
       "       [0.00014068298687172103, 'opponent_LAC'],\n",
       "       [0.00010403755927645933, 'opponent_MEM'],\n",
       "       [9.079807665516982e-05, 'opponent_MIA'],\n",
       "       [1.2358906690723693e-06, 'opponent_MIL'],\n",
       "       [3.3431914987598187e-13, 'opponent_MIN'],\n",
       "       [1.2813674812290155e-31, 'opponent_NJN'],\n",
       "       [1.1262136553647977e-32, 'opponent_NOH'],\n",
       "       [4.3665984404055955e-33, 'opponent_NOP'],\n",
       "       [2.32797123874094e-33, 'opponent_NYK'],\n",
       "       [2.3016545204196037e-33, 'opponent_OKC'],\n",
       "       [1.7686161475281517e-33, 'opponent_ORL'],\n",
       "       [1.303741091099124e-33, 'opponent_PHI'],\n",
       "       [9.486345676950426e-34, 'opponent_PHX'],\n",
       "       [8.900247734499166e-34, 'opponent_POR'],\n",
       "       [8.760404472213772e-34, 'opponent_SAC'],\n",
       "       [6.506422487789468e-34, 'opponent_SAS'],\n",
       "       [3.8087473422972653e-34, 'opponent_SEA'],\n",
       "       [3.7913046954124665e-34, 'opponent_TOR'],\n",
       "       [3.7913046954124665e-34, 'opponent_UTA'],\n",
       "       [1.639847861228013e-34, 'opponent_VAN'],\n",
       "       [1.081740811944087e-35, 'opponent_WAS']], dtype=object)"
      ]
     },
     "execution_count": 407,
     "metadata": {},
     "output_type": "execute_result"
    }
   ],
   "source": [
    "xx = np.hstack((pca.explained_variance_ratio_.reshape(-1, 1), X.columns.ravel().reshape(-1,1)))\n",
    "xx"
   ]
  },
  {
   "cell_type": "code",
   "execution_count": 412,
   "metadata": {},
   "outputs": [
    {
     "data": {
      "text/plain": [
       "array(['game_event_id', 'game_id', 'loc_x', 'loc_y', 'minutes_remaining',\n",
       "       'period', 'playoffs', 'seconds_remaining', 'shot_distance',\n",
       "       'month'], dtype=object)"
      ]
     },
     "execution_count": 412,
     "metadata": {},
     "output_type": "execute_result"
    }
   ],
   "source": [
    "xx[0:10, 1]"
   ]
  },
  {
   "cell_type": "markdown",
   "metadata": {},
   "source": [
    "Ниже представлены наиболее значимые признаки по оценки методом PCA (первые N)."
   ]
  },
  {
   "cell_type": "code",
   "execution_count": 410,
   "metadata": {},
   "outputs": [
    {
     "data": {
      "text/plain": [
       "([<matplotlib.axis.YTick at 0x26f63680988>,\n",
       "  <matplotlib.axis.YTick at 0x26f636804c8>,\n",
       "  <matplotlib.axis.YTick at 0x26f16f57108>,\n",
       "  <matplotlib.axis.YTick at 0x26f12738088>,\n",
       "  <matplotlib.axis.YTick at 0x26f12738c88>,\n",
       "  <matplotlib.axis.YTick at 0x26f03553508>,\n",
       "  <matplotlib.axis.YTick at 0x26f59dec608>,\n",
       "  <matplotlib.axis.YTick at 0x26f127b2548>,\n",
       "  <matplotlib.axis.YTick at 0x26f127b2248>,\n",
       "  <matplotlib.axis.YTick at 0x26f1277e708>,\n",
       "  <matplotlib.axis.YTick at 0x26f035a0408>,\n",
       "  <matplotlib.axis.YTick at 0x26f021c0708>,\n",
       "  <matplotlib.axis.YTick at 0x26f60f1b988>,\n",
       "  <matplotlib.axis.YTick at 0x26f0354ba48>],\n",
       " <a list of 14 Text yticklabel objects>)"
      ]
     },
     "execution_count": 410,
     "metadata": {},
     "output_type": "execute_result"
    },
    {
     "data": {
      "image/png": "[encoded data removed]",
      "text/plain": [
       "<Figure size 576x720 with 1 Axes>"
      ]
     },
     "metadata": {},
     "output_type": "display_data"
    }
   ],
   "source": [
    "xx = np.hstack((pca.explained_variance_ratio_.reshape(-1, 1), X.columns.ravel().reshape(-1,1)))\n",
    "FI = xx[xx[:,0]>0.01]\n",
    "plt.figure(figsize=(8, 10))\n",
    "plt.barh(np.arange(len(FI)), FI[:,0])\n",
    "plt.yticks(np.arange(len(FI)),FI[:,1])"
   ]
  },
  {
   "cell_type": "code",
   "execution_count": 447,
   "metadata": {},
   "outputs": [
    {
     "data": {
      "text/html": [
       "<div>\n",
       "<style scoped>\n",
       "    .dataframe tbody tr th:only-of-type {\n",
       "        vertical-align: middle;\n",
       "    }\n",
       "\n",
       "    .dataframe tbody tr th {\n",
       "        vertical-align: top;\n",
       "    }\n",
       "\n",
       "    .dataframe thead th {\n",
       "        text-align: right;\n",
       "    }\n",
       "</style>\n",
       "<table border=\"1\" class=\"dataframe\">\n",
       "  <thead>\n",
       "    <tr style=\"text-align: right;\">\n",
       "      <th></th>\n",
       "      <th>game_event_id</th>\n",
       "      <th>game_id</th>\n",
       "      <th>loc_x</th>\n",
       "      <th>loc_y</th>\n",
       "      <th>minutes_remaining</th>\n",
       "      <th>period</th>\n",
       "      <th>playoffs</th>\n",
       "      <th>seconds_remaining</th>\n",
       "      <th>shot_distance</th>\n",
       "      <th>month</th>\n",
       "    </tr>\n",
       "  </thead>\n",
       "  <tbody>\n",
       "    <tr>\n",
       "      <td>1</td>\n",
       "      <td>12</td>\n",
       "      <td>20000012</td>\n",
       "      <td>-157</td>\n",
       "      <td>0</td>\n",
       "      <td>10</td>\n",
       "      <td>1</td>\n",
       "      <td>0</td>\n",
       "      <td>22</td>\n",
       "      <td>15</td>\n",
       "      <td>10</td>\n",
       "    </tr>\n",
       "    <tr>\n",
       "      <td>2</td>\n",
       "      <td>35</td>\n",
       "      <td>20000012</td>\n",
       "      <td>-101</td>\n",
       "      <td>135</td>\n",
       "      <td>7</td>\n",
       "      <td>1</td>\n",
       "      <td>0</td>\n",
       "      <td>45</td>\n",
       "      <td>16</td>\n",
       "      <td>10</td>\n",
       "    </tr>\n",
       "    <tr>\n",
       "      <td>3</td>\n",
       "      <td>43</td>\n",
       "      <td>20000012</td>\n",
       "      <td>138</td>\n",
       "      <td>175</td>\n",
       "      <td>6</td>\n",
       "      <td>1</td>\n",
       "      <td>0</td>\n",
       "      <td>52</td>\n",
       "      <td>22</td>\n",
       "      <td>10</td>\n",
       "    </tr>\n",
       "    <tr>\n",
       "      <td>4</td>\n",
       "      <td>155</td>\n",
       "      <td>20000012</td>\n",
       "      <td>0</td>\n",
       "      <td>0</td>\n",
       "      <td>6</td>\n",
       "      <td>2</td>\n",
       "      <td>0</td>\n",
       "      <td>19</td>\n",
       "      <td>0</td>\n",
       "      <td>10</td>\n",
       "    </tr>\n",
       "    <tr>\n",
       "      <td>5</td>\n",
       "      <td>244</td>\n",
       "      <td>20000012</td>\n",
       "      <td>-145</td>\n",
       "      <td>-11</td>\n",
       "      <td>9</td>\n",
       "      <td>3</td>\n",
       "      <td>0</td>\n",
       "      <td>32</td>\n",
       "      <td>14</td>\n",
       "      <td>10</td>\n",
       "    </tr>\n",
       "  </tbody>\n",
       "</table>\n",
       "</div>"
      ],
      "text/plain": [
       "   game_event_id   game_id  loc_x  loc_y  minutes_remaining  period  playoffs  \\\n",
       "1             12  20000012   -157      0                 10       1         0   \n",
       "2             35  20000012   -101    135                  7       1         0   \n",
       "3             43  20000012    138    175                  6       1         0   \n",
       "4            155  20000012      0      0                  6       2         0   \n",
       "5            244  20000012   -145    -11                  9       3         0   \n",
       "\n",
       "   seconds_remaining  shot_distance  month  \n",
       "1                 22             15     10  \n",
       "2                 45             16     10  \n",
       "3                 52             22     10  \n",
       "4                 19              0     10  \n",
       "5                 32             14     10  "
      ]
     },
     "execution_count": 447,
     "metadata": {},
     "output_type": "execute_result"
    }
   ],
   "source": [
    "X[xx[0:10, 1]].head(5)"
   ]
  },
  {
   "cell_type": "markdown",
   "metadata": {},
   "source": [
    "Рассчитаем AUC для первых N признаков (наиболее значимых по методу PCA). Как видим из графика AUC при 40 первых признаках достигает максимального AUC и далее добавлением последующих большего количества признаков AUC не увеличивается"
   ]
  },
  {
   "cell_type": "code",
   "execution_count": 444,
   "metadata": {},
   "outputs": [],
   "source": [
    "first_feats = [10,20,30,40,50,60, 70, 80,90,100,110,120,130,145]\n",
    "AUC = []\n",
    "for i in first_feats:\n",
    "    X_tr, X_t, y_tr, y_t = train_test_split(X[xx[0:i, 1]], y, test_size=0.3, random_state=0)\n",
    "    rfc_new = RandomForestClassifier(random_state=0)\n",
    "    rfc_new.fit(X_tr,  y_tr)\n",
    "    predictions_rf = rfc_new.predict_proba(X_t)\n",
    "    AUC.append(roc_auc_score(y_t, predictions_rf[:, 1]))"
   ]
  },
  {
   "cell_type": "code",
   "execution_count": 446,
   "metadata": {},
   "outputs": [
    {
     "data": {
      "text/plain": [
       "Text(0, 0.5, 'AUC')"
      ]
     },
     "execution_count": 446,
     "metadata": {},
     "output_type": "execute_result"
    },
    {
     "data": {
      "image/png": "[encoded data removed]",
      "text/plain": [
       "<Figure size 460.8x403.2 with 1 Axes>"
      ]
     },
     "metadata": {},
     "output_type": "display_data"
    }
   ],
   "source": [
    "\n",
    "plt.plot(first_feats, AUC)\n",
    "plt.xlabel(\"First number of features\")\n",
    "plt.ylabel(\"AUC\")"
   ]
  },
  {
   "cell_type": "code",
   "execution_count": 466,
   "metadata": {},
   "outputs": [
    {
     "data": {
      "text/plain": [
       "array([[ 3.75096182e+00,  3.06518113e+00, -9.05058193e-01, ...,\n",
       "        -5.08602419e-17,  1.04071308e-17, -1.33478742e-16],\n",
       "       [ 4.10112552e+00,  3.13965284e+00, -9.92514001e-01, ...,\n",
       "        -4.34838323e-16, -4.07523862e-16, -1.30906330e-16],\n",
       "       [ 1.23463638e+00, -2.04432434e+00,  1.12035995e-01, ...,\n",
       "         3.91932455e-16, -3.00403595e-16, -1.23765034e-17],\n",
       "       ...,\n",
       "       [ 8.04654622e-01, -2.16879163e+00, -5.47910554e-02, ...,\n",
       "         9.10396686e-17,  2.59169105e-17,  6.73846110e-18],\n",
       "       [ 4.11635439e-01, -2.80562243e+00, -7.85462165e-03, ...,\n",
       "        -1.67510967e-16,  1.06455889e-17,  1.24791573e-17],\n",
       "       [ 5.63386309e-01, -2.44418281e+00, -9.15864416e-03, ...,\n",
       "         7.77792016e-19, -9.42629349e-18, -3.82147335e-18]])"
      ]
     },
     "execution_count": 466,
     "metadata": {},
     "output_type": "execute_result"
    }
   ],
   "source": [
    "X_PCAreduced[:, 0:2]"
   ]
  },
  {
   "cell_type": "code",
   "execution_count": 450,
   "metadata": {},
   "outputs": [
    {
     "data": {
      "text/plain": [
       "(17987, 145)"
      ]
     },
     "execution_count": 450,
     "metadata": {},
     "output_type": "execute_result"
    }
   ],
   "source": [
    "X_train.shape"
   ]
  },
  {
   "cell_type": "code",
   "execution_count": 468,
   "metadata": {},
   "outputs": [
    {
     "data": {
      "text/plain": [
       "(17987, 145)"
      ]
     },
     "execution_count": 468,
     "metadata": {},
     "output_type": "execute_result"
    }
   ],
   "source": [
    "X_PCAreduced.shape"
   ]
  },
  {
   "cell_type": "markdown",
   "metadata": {},
   "source": [
    "Попробуем обучить модель с помощью PCA датасета  рассчитаем AUC на основе различного количества первых признаков. Улучшения качества не произошло и даже теперь нужно больше призанков (60), чтобы выйти на заданный уровень"
   ]
  },
  {
   "cell_type": "code",
   "execution_count": 469,
   "metadata": {},
   "outputs": [],
   "source": [
    "xx_new = np.hstack((pca.explained_variance_ratio_.reshape(-1, 1), X.columns.ravel().reshape(-1,1)))\n",
    "first_feats = [10,20,30,40,50,60, 70, 80,90,100,110,120,130,145]\n",
    "AUC = []\n",
    "for i in first_feats:\n",
    "    X_tr, X_t, y_tr, y_t = train_test_split(X_PCAreduced[:, 0:i], y_train, test_size=0.3, random_state=0)\n",
    "    rfc_new = RandomForestClassifier(random_state=0)\n",
    "    rfc_new.fit(X_tr,  y_tr)\n",
    "    predictions_rf = rfc_new.predict_proba(X_t)\n",
    "    AUC.append(roc_auc_score(y_t, predictions_rf[:, 1]))"
   ]
  },
  {
   "cell_type": "code",
   "execution_count": 470,
   "metadata": {},
   "outputs": [
    {
     "data": {
      "text/plain": [
       "Text(0, 0.5, 'AUC')"
      ]
     },
     "execution_count": 470,
     "metadata": {},
     "output_type": "execute_result"
    },
    {
     "data": {
      "image/png": "[encoded data removed]",
      "text/plain": [
       "<Figure size 460.8x403.2 with 1 Axes>"
      ]
     },
     "metadata": {},
     "output_type": "display_data"
    }
   ],
   "source": [
    "plt.plot(first_feats, AUC)\n",
    "plt.xlabel(\"First number of features\")\n",
    "plt.ylabel(\"AUC\")"
   ]
  }
 ],
 "metadata": {
  "kernelspec": {
   "display_name": "Python 3",
   "language": "python",
   "name": "python3"
  },
  "language_info": {
   "codemirror_mode": {
    "name": "ipython",
    "version": 3
   },
   "file_extension": ".py",
   "mimetype": "text/x-python",
   "name": "python",
   "nbconvert_exporter": "python",
   "pygments_lexer": "ipython3",
   "version": "3.7.4"
  }
 },
 "nbformat": 4,
 "nbformat_minor": 2
}
